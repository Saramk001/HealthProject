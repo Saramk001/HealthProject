{
 "cells": [
  {
   "cell_type": "markdown",
   "id": "d22b6d7c",
   "metadata": {},
   "source": [
    "<div class = \"h1\" align=\"center\"><span style=\"font-family:Lucida Caligraphy;font-size:20px;color:black\">\n",
    "Apprantisage Statistique Avance </span></div><br>\n",
    "<div class = \"h2\" align=\"right\"> </div>\n",
    "<div class = \"h4\" align=\"center\"><span style=\"font-family:Lucida Caligraphy;font-size:24px;color:black\">Qu'est-ce qui explique l'inégalité en matière de santé publique pour la population mauritanienne ?  </span></div>\n",
    "<div class = \"h5\" align=\"right\"> </div><br><br>\n",
    "<div class = \"year\" align=\"center\"><span style=\"font-family:Lucida Caligraphy;font-size:24px;color:green\"> realiser par : </span></div>\n",
    "<div class = \"name1\" align=\"center\"><span style=\"font-family:Lucida Caligraphy;font-size:24px;color:blue\">\n",
    "Sara Mkhaitratt 21077</span></div>\n",
    "<div class = \"name2\" align=\"center\"><span style=\"font-family:Lucida Caligraphy;font-size:24px;color:blue\">Abdellahi EL Moustapha  21011</span></div>\n",
    "<div class = \"name2\" align=\"center\"><span style=\"font-family:Lucida Caligraphy;font-size:24px;color:blue\">\n",
    "Dheib Dahmane 20020</span></div><br><br>\n",
    "<hr>"
   ]
  },
  {
   "cell_type": "markdown",
   "id": "6877d31b",
   "metadata": {},
   "source": [
    "## Introduction et contexte : "
   ]
  },
  {
   "cell_type": "markdown",
   "id": "c8959252",
   "metadata": {},
   "source": [
    "**La santé publique est un enjeu majeur de nos sociétés modernes, mais malheureusement, elle n'est pas accessible de manière équitable pour tous. En effet, certains groupes de population sont souvent confrontés à des difficultés pour accéder aux soins de santé, obtenir des traitements efficaces et bénéficier d'un niveau de santé comparable à celui des autres. Cette inégalité dans l'accès aux soins de santé a des conséquences néfastes pour la santé individuelle et collective, ainsi que pour la société dans son ensemble. Il est donc important de comprendre les raisons de cette inéquité en matière de santé publique, afin de proposer des solutions pour améliorer la situation et garantir une santé publique équitable pour tous.**"
   ]
  },
  {
   "cell_type": "markdown",
   "id": "a3e0550c",
   "metadata": {},
   "source": [
    "**Les raisons de la non-équité :\\\n",
    ". Les coûts élevés des soins de santé, qui peuvent rendre l'accès aux soins difficile ou impossible pour les personnes ayant des revenus faibles ou moyens\\\n",
    ". Le ménage habite très loin d'un point hospitalier:\\\n",
    ".Les disparités géographiques dans l'accès aux soins de santé, en particulier dans les régions rurales et éloignées, où les services de santé peuvent être moins disponibles ou de moins bonne qualité**"
   ]
  },
  {
   "cell_type": "markdown",
   "id": "4d11d66c",
   "metadata": {},
   "source": [
    "## Source de données: \n",
    "\n",
    "**Pour etudier cette problematique, nous allons utiliser la base de donnees 'MRIR71DT'  provenant de l’Enquête Démographique et de Santé en Mauritanie réalisée entre 2019 et 2021 par l'Agence Nationale des Statistiques et de l’Analyse Démographique et Économique (ANSADE).\\\n",
    "\\\n",
    "La base de données comporte 15714 lignes représentant le nombre d'individus enquêtés et 5286 colonnes, le nombre de variables. Elle resulte du questionnaire individuel femme qui est l'un parmi les trois questionnaires utilisese au cours de cette enquete:\\\n",
    " le questionnaire ménage\\\n",
    " le questionnaire individuel femme\\ \n",
    " le questionnaire individuel homme\\\n",
    " le questionnaire biomarqueur.**"
   ]
  },
  {
   "cell_type": "markdown",
   "id": "dc7af173",
   "metadata": {},
   "source": [
    "#### Nous allons d'abord commencer par étudier les raisons en prenant en considérations les variables suivantes:"
   ]
  },
  {
   "cell_type": "markdown",
   "id": "cd7cbbcf",
   "metadata": {},
   "source": [
    "**les variables d'interer :\\\n",
    "v467c : obtenir l'argent nécessaire pour le traitement. Cette variable indique si l'individu a réussi à obtenir l'argent nécessaire pour un traitement médical lorsqu'il en avait besoin.\\\n",
    "v467d distance jusqu'à l'établissement de santé. Cette variable mesure la distance entre le domicile de l'individu et l'établissement de santé le plus proche.\\\n",
    "v467e : obligation de prendre un transport. Cette variable mesure le coût et l'accessibilité du transport pour se rendre à un établissement de santé.\\\n",
    "v481c : Couverture par l'assurance maladie. Cette variable indique si l'individu est couvert par une assurance maladie.**\n"
   ]
  },
  {
   "cell_type": "markdown",
   "id": "98fdb42e",
   "metadata": {},
   "source": [
    "## la liste de variables selectionnees: \n",
    "**'v012':'Age'\\\n",
    "'v024':'region'\\ \n",
    "'v025':'type_residence'\\\n",
    "'v467c':'arg_necess'\\\n",
    "'v467d':'dist_etabSante'\\\n",
    "'v481c'  :'assurn_maladie'\\\n",
    "‘v207'  : 'alpphab' \\\n",
    "\"Daughters who have died\" : 'v207' \\\n",
    "\"Sons who have died\": ’v206'\\\n",
    "'V045c':  'ethnicité'\\\n",
    "'v151' : 'gender'\\\n",
    "'v228':'avortement'\\\n",
    "'v045a':'langue'\\\n",
    "'v730':'part_age'\\\n",
    "'v149':'education'\\\n",
    "'v501':'stat_marital'\\\n",
    "'v701':'educ_part'\\\n",
    "'v705':'part_occup'\\\n",
    "'v717':'occup'\\\n",
    "'v190a':'indice_richesse'**"
   ]
  },
  {
   "cell_type": "markdown",
   "id": "b7d3f800",
   "metadata": {},
   "source": [
    "## Importation des bibliotheques "
   ]
  },
  {
   "cell_type": "code",
   "execution_count": 244,
   "id": "51d8b86a",
   "metadata": {},
   "outputs": [],
   "source": [
    "import pandas as pd \n",
    "import matplotlib.pyplot as plt\n",
    "import seaborn as sns\n",
    "from bokeh.io import output_file, show\n",
    "from bokeh.plotting import figure\n",
    "from bokeh.models import ColumnDataSource\n",
    "from bokeh.plotting import figure\n",
    "from bokeh.transform import dodge\n",
    "from sklearn.model_selection import train_test_split\n",
    "from sklearn.model_selection import cross_val_score\n",
    "from sklearn.linear_model import LogisticRegression\n",
    "from sklearn.tree import DecisionTreeClassifier\n",
    "from sklearn.ensemble import RandomForestClassifier\n",
    "from sklearn.metrics import accuracy_score\n",
    "from sklearn.svm import LinearSVC\n",
    "import xgboost as xgb\n",
    "from sklearn.naive_bayes import GaussianNB\n",
    "from sklearn.neighbors import KNeighborsClassifier\n",
    "from sklearn.cluster import KMeans\n",
    "from sklearn.cluster import KMeans"
   ]
  },
  {
   "cell_type": "markdown",
   "id": "58b69271",
   "metadata": {},
   "source": [
    "# 1. PHASE D'EXPLORATION ET DE PRE-TRAITEMENT DES DONNEES \n",
    "\n",
    "## Objectif:\n",
    "- Comprendre du mieux possible nos donnees\n",
    "- Developper une premiere strategie de modelisation\n",
    "\n",
    "## Checklist de base \n",
    "#### Annalyse de Forme: \n",
    "- **Variable target**: l'indice de mortalite\n",
    "- **Lignes et colonnes**: 15714 lignes\\5286 colonnes\n",
    "- **Types de variables**: qualitatives et quantitatives\n",
    "- **Analyse des valeurs manquantes** : imputation par hot-deck sequantiel et interpolation\n",
    "\n",
    "#### Analyse de Fond:\n",
    "- **Visualisation des variables**: \n",
    "  \n",
    "- **Signification des variables**:\n",
    "- **Relation variables/target**:"
   ]
  },
  {
   "cell_type": "markdown",
   "id": "cbcd7037",
   "metadata": {},
   "source": [
    "### 1.a) Analyse de la Forme des donnees"
   ]
  },
  {
   "cell_type": "markdown",
   "id": "b1db3e5b",
   "metadata": {},
   "source": [
    "**Telechargement des donnees**"
   ]
  },
  {
   "cell_type": "code",
   "execution_count": 554,
   "id": "bfc4388a",
   "metadata": {},
   "outputs": [
    {
     "data": {
      "text/html": [
       "<div>\n",
       "<style scoped>\n",
       "    .dataframe tbody tr th:only-of-type {\n",
       "        vertical-align: middle;\n",
       "    }\n",
       "\n",
       "    .dataframe tbody tr th {\n",
       "        vertical-align: top;\n",
       "    }\n",
       "\n",
       "    .dataframe thead th {\n",
       "        text-align: right;\n",
       "    }\n",
       "</style>\n",
       "<table border=\"1\" class=\"dataframe\">\n",
       "  <thead>\n",
       "    <tr style=\"text-align: right;\">\n",
       "      <th></th>\n",
       "      <th>caseid</th>\n",
       "      <th>v000</th>\n",
       "      <th>v001</th>\n",
       "      <th>v002</th>\n",
       "      <th>v003</th>\n",
       "      <th>v004</th>\n",
       "      <th>v005</th>\n",
       "      <th>v006</th>\n",
       "      <th>v007</th>\n",
       "      <th>v008</th>\n",
       "      <th>...</th>\n",
       "      <th>s1312a_11</th>\n",
       "      <th>s1312a_12</th>\n",
       "      <th>s1312a_13</th>\n",
       "      <th>s1312a_14</th>\n",
       "      <th>s1312a_15</th>\n",
       "      <th>s1312a_16</th>\n",
       "      <th>s1312a_17</th>\n",
       "      <th>s1312a_18</th>\n",
       "      <th>s1312a_19</th>\n",
       "      <th>s1312a_20</th>\n",
       "    </tr>\n",
       "  </thead>\n",
       "  <tbody>\n",
       "    <tr>\n",
       "      <th>0</th>\n",
       "      <td>1   1  3</td>\n",
       "      <td>MR7</td>\n",
       "      <td>1</td>\n",
       "      <td>1</td>\n",
       "      <td>3</td>\n",
       "      <td>1</td>\n",
       "      <td>2085142</td>\n",
       "      <td>12</td>\n",
       "      <td>2019</td>\n",
       "      <td>1440</td>\n",
       "      <td>...</td>\n",
       "      <td>NaN</td>\n",
       "      <td>NaN</td>\n",
       "      <td>NaN</td>\n",
       "      <td>NaN</td>\n",
       "      <td>NaN</td>\n",
       "      <td>NaN</td>\n",
       "      <td>NaN</td>\n",
       "      <td>NaN</td>\n",
       "      <td>NaN</td>\n",
       "      <td>NaN</td>\n",
       "    </tr>\n",
       "    <tr>\n",
       "      <th>1</th>\n",
       "      <td>1   8  1</td>\n",
       "      <td>MR7</td>\n",
       "      <td>1</td>\n",
       "      <td>8</td>\n",
       "      <td>1</td>\n",
       "      <td>1</td>\n",
       "      <td>2085142</td>\n",
       "      <td>12</td>\n",
       "      <td>2019</td>\n",
       "      <td>1440</td>\n",
       "      <td>...</td>\n",
       "      <td>NaN</td>\n",
       "      <td>NaN</td>\n",
       "      <td>NaN</td>\n",
       "      <td>NaN</td>\n",
       "      <td>NaN</td>\n",
       "      <td>NaN</td>\n",
       "      <td>NaN</td>\n",
       "      <td>NaN</td>\n",
       "      <td>NaN</td>\n",
       "      <td>NaN</td>\n",
       "    </tr>\n",
       "    <tr>\n",
       "      <th>2</th>\n",
       "      <td>1  11  2</td>\n",
       "      <td>MR7</td>\n",
       "      <td>1</td>\n",
       "      <td>11</td>\n",
       "      <td>2</td>\n",
       "      <td>1</td>\n",
       "      <td>2085142</td>\n",
       "      <td>12</td>\n",
       "      <td>2019</td>\n",
       "      <td>1440</td>\n",
       "      <td>...</td>\n",
       "      <td>NaN</td>\n",
       "      <td>NaN</td>\n",
       "      <td>NaN</td>\n",
       "      <td>NaN</td>\n",
       "      <td>NaN</td>\n",
       "      <td>NaN</td>\n",
       "      <td>NaN</td>\n",
       "      <td>NaN</td>\n",
       "      <td>NaN</td>\n",
       "      <td>NaN</td>\n",
       "    </tr>\n",
       "    <tr>\n",
       "      <th>3</th>\n",
       "      <td>1  14  2</td>\n",
       "      <td>MR7</td>\n",
       "      <td>1</td>\n",
       "      <td>14</td>\n",
       "      <td>2</td>\n",
       "      <td>1</td>\n",
       "      <td>2085142</td>\n",
       "      <td>12</td>\n",
       "      <td>2019</td>\n",
       "      <td>1440</td>\n",
       "      <td>...</td>\n",
       "      <td>NaN</td>\n",
       "      <td>NaN</td>\n",
       "      <td>NaN</td>\n",
       "      <td>NaN</td>\n",
       "      <td>NaN</td>\n",
       "      <td>NaN</td>\n",
       "      <td>NaN</td>\n",
       "      <td>NaN</td>\n",
       "      <td>NaN</td>\n",
       "      <td>NaN</td>\n",
       "    </tr>\n",
       "    <tr>\n",
       "      <th>4</th>\n",
       "      <td>1  17  2</td>\n",
       "      <td>MR7</td>\n",
       "      <td>1</td>\n",
       "      <td>17</td>\n",
       "      <td>2</td>\n",
       "      <td>1</td>\n",
       "      <td>2085142</td>\n",
       "      <td>12</td>\n",
       "      <td>2019</td>\n",
       "      <td>1440</td>\n",
       "      <td>...</td>\n",
       "      <td>NaN</td>\n",
       "      <td>NaN</td>\n",
       "      <td>NaN</td>\n",
       "      <td>NaN</td>\n",
       "      <td>NaN</td>\n",
       "      <td>NaN</td>\n",
       "      <td>NaN</td>\n",
       "      <td>NaN</td>\n",
       "      <td>NaN</td>\n",
       "      <td>NaN</td>\n",
       "    </tr>\n",
       "  </tbody>\n",
       "</table>\n",
       "<p>5 rows × 5286 columns</p>\n",
       "</div>"
      ],
      "text/plain": [
       "            caseid v000  v001  v002  v003  v004     v005  v006  v007  v008  \\\n",
       "0         1   1  3  MR7     1     1     3     1  2085142    12  2019  1440   \n",
       "1         1   8  1  MR7     1     8     1     1  2085142    12  2019  1440   \n",
       "2         1  11  2  MR7     1    11     2     1  2085142    12  2019  1440   \n",
       "3         1  14  2  MR7     1    14     2     1  2085142    12  2019  1440   \n",
       "4         1  17  2  MR7     1    17     2     1  2085142    12  2019  1440   \n",
       "\n",
       "   ...  s1312a_11  s1312a_12  s1312a_13  s1312a_14  s1312a_15  s1312a_16  \\\n",
       "0  ...        NaN        NaN        NaN        NaN        NaN        NaN   \n",
       "1  ...        NaN        NaN        NaN        NaN        NaN        NaN   \n",
       "2  ...        NaN        NaN        NaN        NaN        NaN        NaN   \n",
       "3  ...        NaN        NaN        NaN        NaN        NaN        NaN   \n",
       "4  ...        NaN        NaN        NaN        NaN        NaN        NaN   \n",
       "\n",
       "   s1312a_17  s1312a_18  s1312a_19  s1312a_20  \n",
       "0        NaN        NaN        NaN        NaN  \n",
       "1        NaN        NaN        NaN        NaN  \n",
       "2        NaN        NaN        NaN        NaN  \n",
       "3        NaN        NaN        NaN        NaN  \n",
       "4        NaN        NaN        NaN        NaN  \n",
       "\n",
       "[5 rows x 5286 columns]"
      ]
     },
     "execution_count": 554,
     "metadata": {},
     "output_type": "execute_result"
    }
   ],
   "source": [
    "data= pd.read_stata('C:\\\\Users\\\\USER\\\\Desktop\\\\projet_abou\\\\mechiAou\\\\Santé RIM_2019-21_DHS\\\\MRIR71DT\\\\MRIR71FL.DTA',convert_categoricals=False)\n",
    "data.head()"
   ]
  },
  {
   "cell_type": "code",
   "execution_count": 555,
   "id": "f3dbca00",
   "metadata": {},
   "outputs": [
    {
     "data": {
      "text/plain": [
       "0        0\n",
       "1        0\n",
       "2        0\n",
       "3        0\n",
       "4        0\n",
       "        ..\n",
       "15709    0\n",
       "15710    0\n",
       "15711    0\n",
       "15712    0\n",
       "15713    0\n",
       "Name: v206, Length: 15714, dtype: int8"
      ]
     },
     "execution_count": 555,
     "metadata": {},
     "output_type": "execute_result"
    }
   ],
   "source": [
    "data['v206']"
   ]
  },
  {
   "cell_type": "code",
   "execution_count": 556,
   "id": "958b672a",
   "metadata": {},
   "outputs": [],
   "source": [
    "df=data.copy()"
   ]
  },
  {
   "cell_type": "code",
   "execution_count": 557,
   "id": "28c1a450",
   "metadata": {},
   "outputs": [],
   "source": [
    "# 'v207' :\"Daughters who have died\"\n",
    "# 'v206' :\"Sons who have died\"\n",
    "# 'v218' : \"Number of living children\"    "
   ]
  },
  {
   "cell_type": "markdown",
   "id": "034c0be1",
   "metadata": {},
   "source": [
    "**La selectionn des variables :**"
   ]
  },
  {
   "cell_type": "code",
   "execution_count": 558,
   "id": "0a3d1028",
   "metadata": {},
   "outputs": [
    {
     "data": {
      "text/html": [
       "<div>\n",
       "<style scoped>\n",
       "    .dataframe tbody tr th:only-of-type {\n",
       "        vertical-align: middle;\n",
       "    }\n",
       "\n",
       "    .dataframe tbody tr th {\n",
       "        vertical-align: top;\n",
       "    }\n",
       "\n",
       "    .dataframe thead th {\n",
       "        text-align: right;\n",
       "    }\n",
       "</style>\n",
       "<table border=\"1\" class=\"dataframe\">\n",
       "  <thead>\n",
       "    <tr style=\"text-align: right;\">\n",
       "      <th></th>\n",
       "      <th>Age</th>\n",
       "      <th>gender</th>\n",
       "      <th>weight</th>\n",
       "      <th>height</th>\n",
       "      <th>region</th>\n",
       "      <th>type_residence</th>\n",
       "      <th>arg_necess</th>\n",
       "      <th>dist_etabSante</th>\n",
       "      <th>assuran_maladie</th>\n",
       "      <th>langue</th>\n",
       "      <th>...</th>\n",
       "      <th>occup</th>\n",
       "      <th>ethnicité</th>\n",
       "      <th>avoortement</th>\n",
       "      <th>diabetes</th>\n",
       "      <th>cancer</th>\n",
       "      <th>alpphab</th>\n",
       "      <th>Daughters who have died</th>\n",
       "      <th>Sons who have died</th>\n",
       "      <th>Number of living children</th>\n",
       "      <th>indice_richesse</th>\n",
       "    </tr>\n",
       "  </thead>\n",
       "  <tbody>\n",
       "    <tr>\n",
       "      <th>0</th>\n",
       "      <td>23</td>\n",
       "      <td>2</td>\n",
       "      <td>1035.0</td>\n",
       "      <td>1663.0</td>\n",
       "      <td>1</td>\n",
       "      <td>1</td>\n",
       "      <td>2</td>\n",
       "      <td>2</td>\n",
       "      <td>0</td>\n",
       "      <td>1</td>\n",
       "      <td>...</td>\n",
       "      <td>0</td>\n",
       "      <td>1</td>\n",
       "      <td>0</td>\n",
       "      <td>0.0</td>\n",
       "      <td>0.0</td>\n",
       "      <td>2</td>\n",
       "      <td>0</td>\n",
       "      <td>0</td>\n",
       "      <td>0</td>\n",
       "      <td>3</td>\n",
       "    </tr>\n",
       "    <tr>\n",
       "      <th>1</th>\n",
       "      <td>37</td>\n",
       "      <td>2</td>\n",
       "      <td>669.0</td>\n",
       "      <td>1636.0</td>\n",
       "      <td>1</td>\n",
       "      <td>1</td>\n",
       "      <td>1</td>\n",
       "      <td>1</td>\n",
       "      <td>0</td>\n",
       "      <td>1</td>\n",
       "      <td>...</td>\n",
       "      <td>0</td>\n",
       "      <td>1</td>\n",
       "      <td>0</td>\n",
       "      <td>0.0</td>\n",
       "      <td>0.0</td>\n",
       "      <td>4</td>\n",
       "      <td>0</td>\n",
       "      <td>0</td>\n",
       "      <td>7</td>\n",
       "      <td>1</td>\n",
       "    </tr>\n",
       "    <tr>\n",
       "      <th>2</th>\n",
       "      <td>27</td>\n",
       "      <td>1</td>\n",
       "      <td>NaN</td>\n",
       "      <td>NaN</td>\n",
       "      <td>1</td>\n",
       "      <td>1</td>\n",
       "      <td>1</td>\n",
       "      <td>2</td>\n",
       "      <td>0</td>\n",
       "      <td>1</td>\n",
       "      <td>...</td>\n",
       "      <td>0</td>\n",
       "      <td>1</td>\n",
       "      <td>0</td>\n",
       "      <td>NaN</td>\n",
       "      <td>NaN</td>\n",
       "      <td>1</td>\n",
       "      <td>0</td>\n",
       "      <td>0</td>\n",
       "      <td>1</td>\n",
       "      <td>2</td>\n",
       "    </tr>\n",
       "    <tr>\n",
       "      <th>3</th>\n",
       "      <td>41</td>\n",
       "      <td>2</td>\n",
       "      <td>909.0</td>\n",
       "      <td>1702.0</td>\n",
       "      <td>1</td>\n",
       "      <td>1</td>\n",
       "      <td>1</td>\n",
       "      <td>2</td>\n",
       "      <td>0</td>\n",
       "      <td>1</td>\n",
       "      <td>...</td>\n",
       "      <td>0</td>\n",
       "      <td>1</td>\n",
       "      <td>1</td>\n",
       "      <td>0.0</td>\n",
       "      <td>0.0</td>\n",
       "      <td>4</td>\n",
       "      <td>0</td>\n",
       "      <td>0</td>\n",
       "      <td>1</td>\n",
       "      <td>1</td>\n",
       "    </tr>\n",
       "    <tr>\n",
       "      <th>4</th>\n",
       "      <td>42</td>\n",
       "      <td>1</td>\n",
       "      <td>NaN</td>\n",
       "      <td>NaN</td>\n",
       "      <td>1</td>\n",
       "      <td>1</td>\n",
       "      <td>2</td>\n",
       "      <td>2</td>\n",
       "      <td>0</td>\n",
       "      <td>1</td>\n",
       "      <td>...</td>\n",
       "      <td>0</td>\n",
       "      <td>1</td>\n",
       "      <td>0</td>\n",
       "      <td>NaN</td>\n",
       "      <td>NaN</td>\n",
       "      <td>2</td>\n",
       "      <td>0</td>\n",
       "      <td>0</td>\n",
       "      <td>2</td>\n",
       "      <td>2</td>\n",
       "    </tr>\n",
       "  </tbody>\n",
       "</table>\n",
       "<p>5 rows × 25 columns</p>\n",
       "</div>"
      ],
      "text/plain": [
       "   Age  gender  weight  height  region  type_residence  arg_necess  \\\n",
       "0   23       2  1035.0  1663.0       1               1           2   \n",
       "1   37       2   669.0  1636.0       1               1           1   \n",
       "2   27       1     NaN     NaN       1               1           1   \n",
       "3   41       2   909.0  1702.0       1               1           1   \n",
       "4   42       1     NaN     NaN       1               1           2   \n",
       "\n",
       "   dist_etabSante  assuran_maladie  langue  ...  occup  ethnicité  \\\n",
       "0               2                0       1  ...      0          1   \n",
       "1               1                0       1  ...      0          1   \n",
       "2               2                0       1  ...      0          1   \n",
       "3               2                0       1  ...      0          1   \n",
       "4               2                0       1  ...      0          1   \n",
       "\n",
       "   avoortement  diabetes  cancer  alpphab  Daughters who have died  \\\n",
       "0            0       0.0     0.0        2                        0   \n",
       "1            0       0.0     0.0        4                        0   \n",
       "2            0       NaN     NaN        1                        0   \n",
       "3            1       0.0     0.0        4                        0   \n",
       "4            0       NaN     NaN        2                        0   \n",
       "\n",
       "   Sons who have died  Number of living children  indice_richesse  \n",
       "0                   0                          0                3  \n",
       "1                   0                          7                1  \n",
       "2                   0                          1                2  \n",
       "3                   0                          1                1  \n",
       "4                   0                          2                2  \n",
       "\n",
       "[5 rows x 25 columns]"
      ]
     },
     "execution_count": 558,
     "metadata": {},
     "output_type": "execute_result"
    }
   ],
   "source": [
    "variables = ['v012','v151' , 'v437','v438','v024', 'v025', 'v467c','v467d','v481c','v045a',  'v730',  'v149', 'v501', 'v701', 'v705', 'v717' ,'v045c' , 'v228','s1207','s1215','v155','v207','v206','v218','v190a']\n",
    "df = df[variables]\n",
    "name_var=['Age','gender','weight','height','region','type_residence','arg_necess','dist_etabSante','assuran_maladie','langue','part_age', 'education','stat_marital', 'educ_part','part_occup','occup','ethnicité','avoortement','diabetes','cancer', 'alpphab',\"Daughters who have died\",\"Sons who have died\",\"Number of living children\" ,'indice_richesse']\n",
    "df.columns = name_var\n",
    "df.head()"
   ]
  },
  {
   "cell_type": "code",
   "execution_count": 533,
   "id": "d68b95f6",
   "metadata": {},
   "outputs": [
    {
     "data": {
      "text/plain": [
       "(15714, 25)"
      ]
     },
     "execution_count": 533,
     "metadata": {},
     "output_type": "execute_result"
    }
   ],
   "source": [
    "df.shape"
   ]
  },
  {
   "cell_type": "markdown",
   "id": "a6139ad1",
   "metadata": {},
   "source": [
    "**Y a-t-il des valeurs manquantes ?**"
   ]
  },
  {
   "cell_type": "markdown",
   "id": "c45c25ef",
   "metadata": {},
   "source": [
    "**let's see**"
   ]
  },
  {
   "cell_type": "markdown",
   "id": "4747ce27",
   "metadata": {},
   "source": [
    "**Calculons le taux des valeurs manquantes dans note dataframe df**"
   ]
  },
  {
   "cell_type": "code",
   "execution_count": 534,
   "id": "f6f7446b",
   "metadata": {},
   "outputs": [
    {
     "data": {
      "text/plain": [
       "0.04"
      ]
     },
     "execution_count": 534,
     "metadata": {},
     "output_type": "execute_result"
    }
   ],
   "source": [
    "round(100*(df.isnull().any().sum()/df.shape[0]),2)"
   ]
  },
  {
   "cell_type": "markdown",
   "id": "86483045",
   "metadata": {},
   "source": [
    "**Calculons le pour centage des valeurs manquantes dans chaque variable**"
   ]
  },
  {
   "cell_type": "code",
   "execution_count": 535,
   "id": "bf4acae3",
   "metadata": {},
   "outputs": [
    {
     "data": {
      "text/plain": [
       "Age                           0.000000\n",
       "gender                        0.000000\n",
       "weight                       49.535446\n",
       "height                       49.535446\n",
       "region                        0.000000\n",
       "type_residence                0.000000\n",
       "arg_necess                    0.000000\n",
       "dist_etabSante                0.000000\n",
       "assuran_maladie               0.000000\n",
       "langue                        0.000000\n",
       "part_age                     37.896144\n",
       "education                     0.000000\n",
       "stat_marital                  0.000000\n",
       "educ_part                    37.896144\n",
       "part_occup                   37.896144\n",
       "occup                         0.000000\n",
       "ethnicité                     0.000000\n",
       "avoortement                   0.000000\n",
       "diabetes                     49.535446\n",
       "cancer                       49.535446\n",
       "alpphab                       0.000000\n",
       "Daughters who have died       0.000000\n",
       "Sons who have died            0.000000\n",
       "Number of living children     0.000000\n",
       "indice_richesse               0.000000\n",
       "dtype: float64"
      ]
     },
     "execution_count": 535,
     "metadata": {},
     "output_type": "execute_result"
    }
   ],
   "source": [
    "df.isnull().sum() *100 /df.shape[0]"
   ]
  },
  {
   "cell_type": "markdown",
   "id": "bba63ed5",
   "metadata": {},
   "source": [
    "**Imputons les variables qui ont des valeurs manquantes** "
   ]
  },
  {
   "cell_type": "code",
   "execution_count": 488,
   "id": "bcd2a61b",
   "metadata": {},
   "outputs": [],
   "source": [
    "# interpol pour les variable num"
   ]
  },
  {
   "cell_type": "code",
   "execution_count": 581,
   "id": "40af3007",
   "metadata": {},
   "outputs": [],
   "source": [
    "df['weight'] = df['weight'].interpolate()\n",
    "df['height'] = df['height'].interpolate()\n",
    "df['part_age'] = df['part_age'].interpolate()"
   ]
  },
  {
   "cell_type": "code",
   "execution_count": 582,
   "id": "ea40a196",
   "metadata": {},
   "outputs": [
    {
     "data": {
      "text/plain": [
       "Age                           0.000000\n",
       "gender                        0.000000\n",
       "weight                        0.000000\n",
       "height                        0.000000\n",
       "region                        0.000000\n",
       "type_residence                0.000000\n",
       "arg_necess                    0.000000\n",
       "dist_etabSante                0.000000\n",
       "assuran_maladie               0.000000\n",
       "langue                        0.000000\n",
       "part_age                      0.000000\n",
       "education                     0.000000\n",
       "stat_marital                  0.000000\n",
       "educ_part                     0.000000\n",
       "part_occup                    0.000000\n",
       "occup                         0.000000\n",
       "ethnicité                     0.000000\n",
       "avoortement                   0.000000\n",
       "diabetes                     49.535446\n",
       "cancer                        0.000000\n",
       "alpphab                       0.000000\n",
       "Daughters who have died       0.000000\n",
       "Sons who have died            0.000000\n",
       "Number of living children     0.000000\n",
       "indice_richesse               0.000000\n",
       "indice_mortalite              0.000000\n",
       "dtype: float64"
      ]
     },
     "execution_count": 582,
     "metadata": {},
     "output_type": "execute_result"
    }
   ],
   "source": [
    "df.isnull().sum() *100 /df.shape[0]"
   ]
  },
  {
   "cell_type": "code",
   "execution_count": 576,
   "id": "5676573c",
   "metadata": {},
   "outputs": [
    {
     "data": {
      "text/plain": [
       "Index(['Age', 'gender', 'weight', 'height', 'region', 'type_residence',\n",
       "       'arg_necess', 'dist_etabSante', 'assuran_maladie', 'langue', 'part_age',\n",
       "       'education', 'stat_marital', 'educ_part', 'part_occup', 'occup',\n",
       "       'ethnicité', 'avoortement', 'diabetes', 'cancer', 'alpphab',\n",
       "       'Daughters who have died', 'Sons who have died',\n",
       "       'Number of living children', 'indice_richesse', 'indice_mortalite'],\n",
       "      dtype='object')"
      ]
     },
     "execution_count": 576,
     "metadata": {},
     "output_type": "execute_result"
    }
   ],
   "source": [
    "df.columns"
   ]
  },
  {
   "cell_type": "code",
   "execution_count": 577,
   "id": "60d223cf",
   "metadata": {},
   "outputs": [],
   "source": [
    "#hot deck pour les categ"
   ]
  },
  {
   "cell_type": "code",
   "execution_count": 583,
   "id": "969478c0",
   "metadata": {},
   "outputs": [],
   "source": [
    "cols = ['part_age','educ_part','part_occup','diabetes','cancer']\n",
    "index = [10, 13,14,18,19]\n",
    "j=0\n",
    "data = df.copy()\n",
    "for col in cols:\n",
    "    col_no_na = data[col].dropna()\n",
    "    col_isna = data[col].isnull().tolist()\n",
    "    for i in range(len(col_isna)):\n",
    "        if col_isna[i] == True :\n",
    "            data.iloc[i,index[j]] = col_no_na.sample(n=1).tolist()[0]\n",
    "    j+=1  "
   ]
  },
  {
   "cell_type": "code",
   "execution_count": 584,
   "id": "f5ec31d7",
   "metadata": {},
   "outputs": [],
   "source": [
    "df=data"
   ]
  },
  {
   "cell_type": "code",
   "execution_count": 585,
   "id": "fe66f6d2",
   "metadata": {},
   "outputs": [
    {
     "data": {
      "text/plain": [
       "Age                          0.0\n",
       "gender                       0.0\n",
       "weight                       0.0\n",
       "height                       0.0\n",
       "region                       0.0\n",
       "type_residence               0.0\n",
       "arg_necess                   0.0\n",
       "dist_etabSante               0.0\n",
       "assuran_maladie              0.0\n",
       "langue                       0.0\n",
       "part_age                     0.0\n",
       "education                    0.0\n",
       "stat_marital                 0.0\n",
       "educ_part                    0.0\n",
       "part_occup                   0.0\n",
       "occup                        0.0\n",
       "ethnicité                    0.0\n",
       "avoortement                  0.0\n",
       "diabetes                     0.0\n",
       "cancer                       0.0\n",
       "alpphab                      0.0\n",
       "Daughters who have died      0.0\n",
       "Sons who have died           0.0\n",
       "Number of living children    0.0\n",
       "indice_richesse              0.0\n",
       "indice_mortalite             0.0\n",
       "dtype: float64"
      ]
     },
     "execution_count": 585,
     "metadata": {},
     "output_type": "execute_result"
    }
   ],
   "source": [
    "data.isnull().sum() *100 /data.shape[0]"
   ]
  },
  {
   "cell_type": "markdown",
   "id": "58fffe7c",
   "metadata": {},
   "source": [
    "**Nice no missing values :-)**"
   ]
  },
  {
   "cell_type": "markdown",
   "id": "1b663d3a",
   "metadata": {},
   "source": [
    "### 1.b) Analyse de Fond"
   ]
  },
  {
   "cell_type": "markdown",
   "id": "e802fd89",
   "metadata": {},
   "source": [
    "### La repartition du peuple selon le sex"
   ]
  },
  {
   "cell_type": "code",
   "execution_count": 140,
   "id": "c69707fb",
   "metadata": {},
   "outputs": [
    {
     "data": {
      "image/png": "[encoded data removed]",
      "text/plain": [
       "<Figure size 432x288 with 1 Axes>"
      ]
     },
     "metadata": {},
     "output_type": "display_data"
    }
   ],
   "source": [
    "colors = [\"#87CEEB\",\"pink\"]\n",
    "plt.pie(pd.DataFrame(df.gender.value_counts()).gender, colors=colors,autopct='%1.1f%%',labels=[ \"Homme\",\"Femme\"])\n",
    "plt.title(\" Le genre des individus\")\n",
    "plt.show()"
   ]
  },
  {
   "cell_type": "markdown",
   "id": "33834f77",
   "metadata": {},
   "source": [
    "**On constate que 60,7 % des répondants sont des hommes, alors que seuls 39,3 % sont des femmes.**"
   ]
  },
  {
   "cell_type": "markdown",
   "id": "0ef9c41b",
   "metadata": {},
   "source": [
    "### La repartition du peuple selon le statut marital"
   ]
  },
  {
   "cell_type": "code",
   "execution_count": 157,
   "id": "d8cbbf10",
   "metadata": {},
   "outputs": [
    {
     "data": {
      "image/png": "[encoded data removed]",
      "text/plain": [
       "<Figure size 432x288 with 1 Axes>"
      ]
     },
     "metadata": {},
     "output_type": "display_data"
    }
   ],
   "source": [
    "pd.crosstab(index=df['stat_marital'],columns=\"count\").plot(kind = 'pie', subplots = True, title = 'statut marital', autopct='%1.0f%%')\n",
    "plt.legend([ \"Never in union\", \"Married\", \"Living with partner\", \"Widowed\",\"Divorced\", \"No longer living together/separated\"],loc=\"center\", bbox_to_anchor=(0.5, -0.2))\n",
    "plt.show()"
   ]
  },
  {
   "cell_type": "markdown",
   "id": "8177a7e4",
   "metadata": {},
   "source": [
    "**La plupart des repondants sont mariées avec un pourcentage de 62%.**"
   ]
  },
  {
   "cell_type": "markdown",
   "id": "665a6f4a",
   "metadata": {},
   "source": [
    "### voyons voir à propos de l'éducation"
   ]
  },
  {
   "cell_type": "code",
   "execution_count": 165,
   "id": "ee668aaf",
   "metadata": {},
   "outputs": [
    {
     "data": {
      "image/png": "[encoded data removed]",
      "text/plain": [
       "<Figure size 432x288 with 1 Axes>"
      ]
     },
     "metadata": {},
     "output_type": "display_data"
    }
   ],
   "source": [
    "pd.crosstab(index=df['education'],columns=\"count\").plot(kind = 'pie', subplots = True, title = 'Le niveau d\\'education des femmes', autopct='%1.0f%%')\n",
    "plt.legend([ \"No education\", \"Incomplete primary\", \"Complete primary\", \"Incomplete secondary\",\"Complete secondary\", \"Higher\"],loc=\"center\", bbox_to_anchor=(0.5, -0.2))\n",
    "plt.show()"
   ]
  },
  {
   "cell_type": "markdown",
   "id": "c89e8257",
   "metadata": {},
   "source": [
    "**Les femmes ont un niveau d'éducation assez faible dans cette population. Environ un tiers (33%) des femmes n'ont aucune éducation, et près d'un tiers (30%) ont une éducation primaire incomplète. Seulement 9% ont terminé leur éducation primaire, et moins d'un quart (22%) ont poursuivi leur éducation secondaire, sans toutefois l'avoir terminée (22%). Seulement une petite minorité de femmes (4%) ont terminé leur éducation secondaire, et seulement 2% ont atteint un niveau d'éducation supérieur.**"
   ]
  },
  {
   "cell_type": "code",
   "execution_count": null,
   "id": "7a8c61bb",
   "metadata": {},
   "outputs": [],
   "source": [
    "dd = df['educ_part'].value_counts().to_frame()\n",
    "dd = dd.reset_index()\n",
    "dd.columns = ['educ_par','fréquence']"
   ]
  },
  {
   "cell_type": "code",
   "execution_count": 207,
   "id": "bfb665f4",
   "metadata": {},
   "outputs": [
    {
     "data": {
      "text/html": [
       "<div>\n",
       "<style scoped>\n",
       "    .dataframe tbody tr th:only-of-type {\n",
       "        vertical-align: middle;\n",
       "    }\n",
       "\n",
       "    .dataframe tbody tr th {\n",
       "        vertical-align: top;\n",
       "    }\n",
       "\n",
       "    .dataframe thead th {\n",
       "        text-align: right;\n",
       "    }\n",
       "</style>\n",
       "<table border=\"1\" class=\"dataframe\">\n",
       "  <thead>\n",
       "    <tr style=\"text-align: right;\">\n",
       "      <th></th>\n",
       "      <th>educ_part</th>\n",
       "      <th>fréquence</th>\n",
       "    </tr>\n",
       "  </thead>\n",
       "  <tbody>\n",
       "    <tr>\n",
       "      <th>0</th>\n",
       "      <td>No education</td>\n",
       "      <td>45.278096</td>\n",
       "    </tr>\n",
       "    <tr>\n",
       "      <th>1</th>\n",
       "      <td>Complete secondary</td>\n",
       "      <td>22.457681</td>\n",
       "    </tr>\n",
       "    <tr>\n",
       "      <th>2</th>\n",
       "      <td>Secondary - old system</td>\n",
       "      <td>13.809342</td>\n",
       "    </tr>\n",
       "    <tr>\n",
       "      <th>3</th>\n",
       "      <td>Primary</td>\n",
       "      <td>13.529337</td>\n",
       "    </tr>\n",
       "    <tr>\n",
       "      <th>4</th>\n",
       "      <td>Secondary - new system</td>\n",
       "      <td>4.925544</td>\n",
       "    </tr>\n",
       "  </tbody>\n",
       "</table>\n",
       "</div>"
      ],
      "text/plain": [
       "                educ_part  fréquence\n",
       "0            No education  45.278096\n",
       "1      Complete secondary  22.457681\n",
       "2  Secondary - old system  13.809342\n",
       "3                 Primary  13.529337\n",
       "4  Secondary - new system   4.925544"
      ]
     },
     "execution_count": 207,
     "metadata": {},
     "output_type": "execute_result"
    }
   ],
   "source": [
    "dd"
   ]
  },
  {
   "cell_type": "code",
   "execution_count": 210,
   "id": "d68fca51",
   "metadata": {},
   "outputs": [
    {
     "name": "stderr",
     "output_type": "stream",
     "text": [
      "c:\\users\\user\\appdata\\local\\programs\\python\\python37\\lib\\site-packages\\ipykernel_launcher.py:17: FutureWarning: \n",
      "\n",
      "The `ci` parameter is deprecated. Use `errorbar=None` for the same effect.\n",
      "\n"
     ]
    },
    {
     "data": {
      "text/plain": [
       "<AxesSubplot:xlabel='fréquence', ylabel='educ_part'>"
      ]
     },
     "execution_count": 210,
     "metadata": {},
     "output_type": "execute_result"
    },
    {
     "data": {
      "image/png": "[encoded data removed]",
      "text/plain": [
       "<Figure size 360x360 with 1 Axes>"
      ]
     },
     "metadata": {
      "needs_background": "light"
     },
     "output_type": "display_data"
    }
   ],
   "source": [
    "d = df['educ_part'].value_counts().to_frame()\n",
    "d = d.reset_index()\n",
    "d.columns = ['educ_part','fréquence']\n",
    "d['educ_part'] = d['educ_part'].replace(0.0, 'No education')\n",
    "d['educ_part'] = d['educ_part'].replace(8.0, 'Complete secondary')\n",
    "d['educ_part'] = d['educ_part'].replace(2.0, 'Secondary - old system')\n",
    "d['educ_part'] = d['educ_part'].replace(1.0,  'Primary')\n",
    "d['educ_part'] = d['educ_part'].replace(3.0, 'Secondary - new system')\n",
    "d['fréquence'] = (d['fréquence']/15714)*100\n",
    "\n",
    "g = sns.FacetGrid(dd1, height=5)\n",
    "sns.barplot(\n",
    "    x=\"fréquence\", \n",
    "    y=\"educ_part\", \n",
    "    data=d, \n",
    "    estimator=sum, \n",
    "    ci=None, \n",
    ")"
   ]
  },
  {
   "cell_type": "markdown",
   "id": "e3e15c00",
   "metadata": {},
   "source": [
    "**Pour ce qui est de l'éducation des partenaires, seules 22% d'entre ils ont finir le  secondaire, 14% ont pu finir le premaire contre une majorité de apeut pres 46% n'ayant jamais étudié.**\n"
   ]
  },
  {
   "cell_type": "markdown",
   "id": "6a6ef744",
   "metadata": {},
   "source": [
    "### L'Age"
   ]
  },
  {
   "cell_type": "code",
   "execution_count": 164,
   "id": "e2b64f46",
   "metadata": {},
   "outputs": [
    {
     "data": {
      "text/html": [
       "<div>\n",
       "<style scoped>\n",
       "    .dataframe tbody tr th:only-of-type {\n",
       "        vertical-align: middle;\n",
       "    }\n",
       "\n",
       "    .dataframe tbody tr th {\n",
       "        vertical-align: top;\n",
       "    }\n",
       "\n",
       "    .dataframe thead th {\n",
       "        text-align: right;\n",
       "    }\n",
       "</style>\n",
       "<table border=\"1\" class=\"dataframe\">\n",
       "  <thead>\n",
       "    <tr style=\"text-align: right;\">\n",
       "      <th></th>\n",
       "      <th>Age</th>\n",
       "    </tr>\n",
       "  </thead>\n",
       "  <tbody>\n",
       "    <tr>\n",
       "      <th>count</th>\n",
       "      <td>15714.000000</td>\n",
       "    </tr>\n",
       "    <tr>\n",
       "      <th>mean</th>\n",
       "      <td>28.446035</td>\n",
       "    </tr>\n",
       "    <tr>\n",
       "      <th>std</th>\n",
       "      <td>9.622998</td>\n",
       "    </tr>\n",
       "    <tr>\n",
       "      <th>min</th>\n",
       "      <td>15.000000</td>\n",
       "    </tr>\n",
       "    <tr>\n",
       "      <th>25%</th>\n",
       "      <td>20.000000</td>\n",
       "    </tr>\n",
       "    <tr>\n",
       "      <th>50%</th>\n",
       "      <td>27.000000</td>\n",
       "    </tr>\n",
       "    <tr>\n",
       "      <th>75%</th>\n",
       "      <td>36.000000</td>\n",
       "    </tr>\n",
       "    <tr>\n",
       "      <th>max</th>\n",
       "      <td>49.000000</td>\n",
       "    </tr>\n",
       "  </tbody>\n",
       "</table>\n",
       "</div>"
      ],
      "text/plain": [
       "                Age\n",
       "count  15714.000000\n",
       "mean      28.446035\n",
       "std        9.622998\n",
       "min       15.000000\n",
       "25%       20.000000\n",
       "50%       27.000000\n",
       "75%       36.000000\n",
       "max       49.000000"
      ]
     },
     "execution_count": 164,
     "metadata": {},
     "output_type": "execute_result"
    }
   ],
   "source": [
    "df['Age'].describe().to_frame()"
   ]
  },
  {
   "cell_type": "code",
   "execution_count": 208,
   "id": "0c287ecd",
   "metadata": {},
   "outputs": [
    {
     "data": {
      "text/plain": [
       "<AxesSubplot:>"
      ]
     },
     "execution_count": 208,
     "metadata": {},
     "output_type": "execute_result"
    },
    {
     "data": {
      "image/png": "[encoded data removed]",
      "text/plain": [
       "<Figure size 432x288 with 1 Axes>"
      ]
     },
     "metadata": {
      "needs_background": "light"
     },
     "output_type": "display_data"
    }
   ],
   "source": [
    "sns.boxplot(df['Age'])"
   ]
  },
  {
   "cell_type": "code",
   "execution_count": 209,
   "id": "2c374ec7",
   "metadata": {},
   "outputs": [
    {
     "name": "stderr",
     "output_type": "stream",
     "text": [
      "c:\\users\\user\\appdata\\local\\programs\\python\\python37\\lib\\site-packages\\ipykernel_launcher.py:1: UserWarning: \n",
      "\n",
      "`distplot` is a deprecated function and will be removed in seaborn v0.14.0.\n",
      "\n",
      "Please adapt your code to use either `displot` (a figure-level function with\n",
      "similar flexibility) or `histplot` (an axes-level function for histograms).\n",
      "\n",
      "For a guide to updating your code to use the new functions, please see\n",
      "https://gist.github.com/mwaskom/de44147ed2974457ad6372750bbe5751\n",
      "\n",
      "  \"\"\"Entry point for launching an IPython kernel.\n"
     ]
    },
    {
     "data": {
      "text/plain": [
       "<AxesSubplot:xlabel='Age', ylabel='Density'>"
      ]
     },
     "execution_count": 209,
     "metadata": {},
     "output_type": "execute_result"
    },
    {
     "data": {
      "image/png": "[encoded data removed]",
      "text/plain": [
       "<Figure size 432x288 with 1 Axes>"
      ]
     },
     "metadata": {
      "needs_background": "light"
     },
     "output_type": "display_data"
    }
   ],
   "source": [
    "sns.distplot(df['Age'])"
   ]
  },
  {
   "cell_type": "markdown",
   "id": "20aa4bca",
   "metadata": {},
   "source": [
    "**Pour ce qui est de l'âge des femmes on costate que cette variable ne présente aucune valeur aberrante et varie généralement entre 15 et 49 ans avec une moyenne de 28 ans.**"
   ]
  },
  {
   "cell_type": "code",
   "execution_count": 214,
   "id": "41771b0d",
   "metadata": {},
   "outputs": [
    {
     "data": {
      "text/html": [
       "<div>\n",
       "<style scoped>\n",
       "    .dataframe tbody tr th:only-of-type {\n",
       "        vertical-align: middle;\n",
       "    }\n",
       "\n",
       "    .dataframe tbody tr th {\n",
       "        vertical-align: top;\n",
       "    }\n",
       "\n",
       "    .dataframe thead th {\n",
       "        text-align: right;\n",
       "    }\n",
       "</style>\n",
       "<table border=\"1\" class=\"dataframe\">\n",
       "  <thead>\n",
       "    <tr style=\"text-align: right;\">\n",
       "      <th></th>\n",
       "      <th>part_age</th>\n",
       "    </tr>\n",
       "  </thead>\n",
       "  <tbody>\n",
       "    <tr>\n",
       "      <th>count</th>\n",
       "      <td>15714.000000</td>\n",
       "    </tr>\n",
       "    <tr>\n",
       "      <th>mean</th>\n",
       "      <td>42.475118</td>\n",
       "    </tr>\n",
       "    <tr>\n",
       "      <th>std</th>\n",
       "      <td>12.671598</td>\n",
       "    </tr>\n",
       "    <tr>\n",
       "      <th>min</th>\n",
       "      <td>15.000000</td>\n",
       "    </tr>\n",
       "    <tr>\n",
       "      <th>25%</th>\n",
       "      <td>34.000000</td>\n",
       "    </tr>\n",
       "    <tr>\n",
       "      <th>50%</th>\n",
       "      <td>40.000000</td>\n",
       "    </tr>\n",
       "    <tr>\n",
       "      <th>75%</th>\n",
       "      <td>50.000000</td>\n",
       "    </tr>\n",
       "    <tr>\n",
       "      <th>max</th>\n",
       "      <td>95.000000</td>\n",
       "    </tr>\n",
       "  </tbody>\n",
       "</table>\n",
       "</div>"
      ],
      "text/plain": [
       "           part_age\n",
       "count  15714.000000\n",
       "mean      42.475118\n",
       "std       12.671598\n",
       "min       15.000000\n",
       "25%       34.000000\n",
       "50%       40.000000\n",
       "75%       50.000000\n",
       "max       95.000000"
      ]
     },
     "execution_count": 214,
     "metadata": {},
     "output_type": "execute_result"
    }
   ],
   "source": [
    "df['part_age'].describe().to_frame()"
   ]
  },
  {
   "cell_type": "code",
   "execution_count": 211,
   "id": "d000874e",
   "metadata": {},
   "outputs": [
    {
     "data": {
      "text/plain": [
       "Text(0.5, 1.0, \"l'age du partenaire\")"
      ]
     },
     "execution_count": 211,
     "metadata": {},
     "output_type": "execute_result"
    },
    {
     "data": {
      "image/png": "[encoded data removed]",
      "text/plain": [
       "<Figure size 432x288 with 1 Axes>"
      ]
     },
     "metadata": {
      "needs_background": "light"
     },
     "output_type": "display_data"
    }
   ],
   "source": [
    "plt.hist(df.part_age)\n",
    "plt.title(\"l'age du partenaire\")"
   ]
  },
  {
   "cell_type": "code",
   "execution_count": 212,
   "id": "f10b380e",
   "metadata": {},
   "outputs": [
    {
     "data": {
      "text/plain": [
       "<AxesSubplot:>"
      ]
     },
     "execution_count": 212,
     "metadata": {},
     "output_type": "execute_result"
    },
    {
     "data": {
      "image/png": "[encoded data removed]",
      "text/plain": [
       "<Figure size 432x288 with 1 Axes>"
      ]
     },
     "metadata": {
      "needs_background": "light"
     },
     "output_type": "display_data"
    }
   ],
   "source": [
    "sns.boxplot(df['part_age'])"
   ]
  },
  {
   "cell_type": "markdown",
   "id": "92dcca5e",
   "metadata": {},
   "source": [
    "**L'âge des partenaires présente quelques valeurs aberrantes et varie généralement entre 15 et 95 ans avec une moyenne de 42 ans.**"
   ]
  },
  {
   "cell_type": "markdown",
   "id": "6350c77f",
   "metadata": {},
   "source": [
    "### La distribtion des repondants selon la region"
   ]
  },
  {
   "cell_type": "code",
   "execution_count": 646,
   "id": "ac9efe8e",
   "metadata": {},
   "outputs": [],
   "source": [
    "d1 = df['region'].value_counts().to_frame()\n",
    "d1 = d1.reset_index()\n",
    "d1.columns = ['region','fréquence']"
   ]
  },
  {
   "cell_type": "code",
   "execution_count": 647,
   "id": "7cbd476b",
   "metadata": {},
   "outputs": [
    {
     "data": {
      "text/html": [
       "<div>\n",
       "<style scoped>\n",
       "    .dataframe tbody tr th:only-of-type {\n",
       "        vertical-align: middle;\n",
       "    }\n",
       "\n",
       "    .dataframe tbody tr th {\n",
       "        vertical-align: top;\n",
       "    }\n",
       "\n",
       "    .dataframe thead th {\n",
       "        text-align: right;\n",
       "    }\n",
       "</style>\n",
       "<table border=\"1\" class=\"dataframe\">\n",
       "  <thead>\n",
       "    <tr style=\"text-align: right;\">\n",
       "      <th></th>\n",
       "      <th>region</th>\n",
       "      <th>fréquence</th>\n",
       "    </tr>\n",
       "  </thead>\n",
       "  <tbody>\n",
       "    <tr>\n",
       "      <th>0</th>\n",
       "      <td>10</td>\n",
       "      <td>1786</td>\n",
       "    </tr>\n",
       "    <tr>\n",
       "      <th>1</th>\n",
       "      <td>5</td>\n",
       "      <td>1454</td>\n",
       "    </tr>\n",
       "    <tr>\n",
       "      <th>2</th>\n",
       "      <td>4</td>\n",
       "      <td>1449</td>\n",
       "    </tr>\n",
       "    <tr>\n",
       "      <th>3</th>\n",
       "      <td>2</td>\n",
       "      <td>1402</td>\n",
       "    </tr>\n",
       "    <tr>\n",
       "      <th>4</th>\n",
       "      <td>3</td>\n",
       "      <td>1380</td>\n",
       "    </tr>\n",
       "    <tr>\n",
       "      <th>5</th>\n",
       "      <td>1</td>\n",
       "      <td>1327</td>\n",
       "    </tr>\n",
       "    <tr>\n",
       "      <th>6</th>\n",
       "      <td>6</td>\n",
       "      <td>1320</td>\n",
       "    </tr>\n",
       "    <tr>\n",
       "      <th>7</th>\n",
       "      <td>9</td>\n",
       "      <td>920</td>\n",
       "    </tr>\n",
       "    <tr>\n",
       "      <th>8</th>\n",
       "      <td>13</td>\n",
       "      <td>910</td>\n",
       "    </tr>\n",
       "    <tr>\n",
       "      <th>9</th>\n",
       "      <td>7</td>\n",
       "      <td>808</td>\n",
       "    </tr>\n",
       "    <tr>\n",
       "      <th>10</th>\n",
       "      <td>14</td>\n",
       "      <td>800</td>\n",
       "    </tr>\n",
       "    <tr>\n",
       "      <th>11</th>\n",
       "      <td>11</td>\n",
       "      <td>787</td>\n",
       "    </tr>\n",
       "    <tr>\n",
       "      <th>12</th>\n",
       "      <td>12</td>\n",
       "      <td>728</td>\n",
       "    </tr>\n",
       "    <tr>\n",
       "      <th>13</th>\n",
       "      <td>8</td>\n",
       "      <td>643</td>\n",
       "    </tr>\n",
       "  </tbody>\n",
       "</table>\n",
       "</div>"
      ],
      "text/plain": [
       "    region  fréquence\n",
       "0       10       1786\n",
       "1        5       1454\n",
       "2        4       1449\n",
       "3        2       1402\n",
       "4        3       1380\n",
       "5        1       1327\n",
       "6        6       1320\n",
       "7        9        920\n",
       "8       13        910\n",
       "9        7        808\n",
       "10      14        800\n",
       "11      11        787\n",
       "12      12        728\n",
       "13       8        643"
      ]
     },
     "execution_count": 647,
     "metadata": {},
     "output_type": "execute_result"
    }
   ],
   "source": [
    "d1"
   ]
  },
  {
   "cell_type": "code",
   "execution_count": 649,
   "id": "9fd04ac3",
   "metadata": {},
   "outputs": [
    {
     "name": "stderr",
     "output_type": "stream",
     "text": [
      "c:\\users\\user\\appdata\\local\\programs\\python\\python37\\lib\\site-packages\\ipykernel_launcher.py:26: FutureWarning: \n",
      "\n",
      "The `ci` parameter is deprecated. Use `errorbar=None` for the same effect.\n",
      "\n"
     ]
    },
    {
     "data": {
      "text/plain": [
       "<AxesSubplot:xlabel='fréquence', ylabel='region'>"
      ]
     },
     "execution_count": 649,
     "metadata": {},
     "output_type": "execute_result"
    },
    {
     "data": {
      "image/png": "[encoded data removed]",
      "text/plain": [
       "<Figure size 360x360 with 1 Axes>"
      ]
     },
     "metadata": {
      "needs_background": "light"
     },
     "output_type": "display_data"
    }
   ],
   "source": [
    "d1 = df['region'].value_counts().to_frame()\n",
    "d1 = d1.reset_index()\n",
    "d1.columns = ['region','fréquence']\n",
    "d1['region'] = d1['region'].replace(1, \"Hodh Echargui\")\n",
    "d1['region'] = d1['region'].replace(2, \"Hodh Gharbi\")\n",
    "d1['region'] = d1['region'].replace(3, \"Assaba\")\n",
    "d1['region'] = d1['region'].replace(4,  \"Gorgol\")\n",
    "d1['region'] = d1['region'].replace(5, \"Brakna\")\n",
    "d1['region'] = d1['region'].replace(6, \"Trarza\")\n",
    "d1['region'] = d1['region'].replace(7, \"Adrar\")\n",
    "d1['region'] = d1['region'].replace(8, \"Dakhlet Nouadhibou\")\n",
    "d1['region'] = d1['region'].replace(9, \"Tagant\")\n",
    "d1['region'] = d1['region'].replace(10, \"Guidimagha\")\n",
    "d1['region'] = d1['region'].replace(11,\"Tiris Zemour et Inchiri\")\n",
    "d1['region'] = d1['region'].replace(12,\"Nouakchott Ouest\")\n",
    "d1['region'] = d1['region'].replace(13,\"Nouakchott Nord\")\n",
    "d1['region'] = d1['region'].replace(14,\"Nouakchott Sud\")\n",
    "d1['fréquence'] = (d1['fréquence']/15714)*100\n",
    "\n",
    "g = sns.FacetGrid(dd1, height=5)\n",
    "sns.barplot(\n",
    "    x=\"fréquence\", \n",
    "    y=\"region\", \n",
    "    data=d1, \n",
    "    estimator=sum, \n",
    "    ci=None, \n",
    ")"
   ]
  },
  {
   "cell_type": "markdown",
   "id": "2e29fc9c",
   "metadata": {},
   "source": [
    "### La repartition de population par region et  gender"
   ]
  },
  {
   "cell_type": "code",
   "execution_count": 230,
   "id": "74dc522d",
   "metadata": {},
   "outputs": [],
   "source": [
    "dframe = df.groupby('region')['gender'].value_counts().unstack(fill_value=0)\n",
    "dframe.columns = ['Homme','Femme']"
   ]
  },
  {
   "cell_type": "code",
   "execution_count": 242,
   "id": "0212eeec",
   "metadata": {},
   "outputs": [],
   "source": [
    "dframe =dframe.rename(index={1:\"Hodh Echargui\", 2: \"Hodh Gharbi\", 3: \"Assaba\", 4: \"Gorgol\", 5:  \"Brakna\", 6: \"Trarza\", 7:\"Adrar\", 8: \"Dakhlet Nouadhibou\", 9: \"Tagant\", 10: \"Guidimagha\", 11:\"Tiris Zemour et Inchiri\", 12: \"Nouakchott Ouest\", 13: \"Nouakchott Nord\", 14: \"Nouakchott Sud\"})\n",
    "dframe\n",
    "# d1['region'] = d1['region'].replace(1, \"Hodh Echargui\")\n",
    "# d1['region'] = d1['region'].replace(2, \"Hodh Gharbi\")\n",
    "# d1['region'] = d1['region'].replace(3, \"Assaba\")\n",
    "# d1['region'] = d1['region'].replace(4,  \"Gorgol\")\n",
    "# d1['region'] = d1['region'].replace(5, \"Brakna\")\n",
    "# d1['region'] = d1['region'].replace(6, \"Trarza\")\n",
    "# d1['region'] = d1['region'].replace(7, \"Adrar\")\n",
    "# d1['region'] = d1['region'].replace(8, \"Dakhlet Nouadhibou\")\n",
    "# d1['region'] = d1['region'].replace(9, \"Tagant\")\n",
    "# d1['region'] = d1['region'].replace(10, \"Guidimagha\")\n",
    "# d1['region'] = d1['region'].replace(11,\"Tiris Zemour et Inchiri\")\n",
    "# d1['region'] = d1['region'].replace(12,\"Nouakchott Ouest\")\n",
    "# d1['region'] = d1['region'].replace(13,\"Nouakchott Nord\")\n",
    "# d1['region'] = d1['region'].replace(14,\"Nouakchott Sud\")"
   ]
  },
  {
   "cell_type": "code",
   "execution_count": 243,
   "id": "8f55cfab",
   "metadata": {},
   "outputs": [
    {
     "data": {
      "text/plain": [
       "([], [])"
      ]
     },
     "execution_count": 243,
     "metadata": {},
     "output_type": "execute_result"
    },
    {
     "data": {
      "image/png": "[encoded data removed]",
      "text/plain": [
       "<Figure size 1080x288 with 1 Axes>"
      ]
     },
     "metadata": {
      "needs_background": "light"
     },
     "output_type": "display_data"
    }
   ],
   "source": [
    "ax = dframe.plot(kind='bar',figsize=(15,4),width = 0.8,color = ['#5bc0de','pink'],edgecolor=None)\n",
    "plt.legend(labels=dframe.columns,fontsize= 14)\n",
    "plt.title(\"Distribution de population par region et gender \",fontsize= 16)\n",
    "\n",
    "plt.xticks(fontsize=14)\n",
    "for spine in plt.gca().spines.values():\n",
    "    spine.set_visible(False)\n",
    "plt.yticks([])\n"
   ]
  },
  {
   "cell_type": "markdown",
   "id": "425afce1",
   "metadata": {},
   "source": [
    "**D'après ce graphe, on constate que la fréquence des hommes est toujours supérieure à celle des femmes dans toutes les régions. C'est normal car les hommes représentent 63,5% des répondants. Les seules régions avec des distributions presque équivalentes sont Assaba et Trarza.**"
   ]
  },
  {
   "cell_type": "markdown",
   "id": "edfdec7d",
   "metadata": {},
   "source": [
    "### voyons voir à propos du travail"
   ]
  },
  {
   "cell_type": "code",
   "execution_count": 265,
   "id": "37bffbab",
   "metadata": {},
   "outputs": [
    {
     "name": "stderr",
     "output_type": "stream",
     "text": [
      "c:\\users\\user\\appdata\\local\\programs\\python\\python37\\lib\\site-packages\\ipykernel_launcher.py:23: FutureWarning: \n",
      "\n",
      "The `ci` parameter is deprecated. Use `errorbar=None` for the same effect.\n",
      "\n"
     ]
    },
    {
     "data": {
      "text/plain": [
       "<AxesSubplot:xlabel='fréquence', ylabel='occup'>"
      ]
     },
     "execution_count": 265,
     "metadata": {},
     "output_type": "execute_result"
    },
    {
     "data": {
      "image/png": "[encoded data removed]",
      "text/plain": [
       "<Figure size 360x360 with 1 Axes>"
      ]
     },
     "metadata": {
      "needs_background": "light"
     },
     "output_type": "display_data"
    }
   ],
   "source": [
    "d1 = df['occup'].value_counts().to_frame()\n",
    "d1 = d1.reset_index()\n",
    "d1.columns = ['occup','fréquence']\n",
    "d1['occup'] = d1['occup'].replace(0, \"did not work\")\n",
    "d1['occup'] = d1['occup'].replace(1, \"professional/technical/managerial\")                     \n",
    "d1['occup'] = d1['occup'].replace(2, \"clerical\")\n",
    "d1['occup'] = d1['occup'].replace(3,  \"sales\")\n",
    "d1['occup'] = d1['occup'].replace(4, \"agricultural - self employed\")\n",
    "d1['occup'] = d1['occup'].replace(5, \"agricultural - employee\")\n",
    "d1['occup'] = d1['occup'].replace(6, \"household and domestic\")\n",
    "d1['occup'] = d1['occup'].replace(7, \"services\")\n",
    "d1['occup'] = d1['occup'].replace(8, \"skilled manual\")\n",
    "d1['occup'] = d1['occup'].replace(9, \"unskilled manual\")\n",
    "d1['occup'] = d1['occup'].replace(96,\"other, not specified\")\n",
    "d1['occup'] = d1['occup'].replace(98,\"don't know\")\n",
    "d1['fréquence'] = (d1['fréquence']/15714)*100\n",
    "g = sns.FacetGrid(dd1, height=5)\n",
    "sns.barplot(\n",
    "    x=\"fréquence\", \n",
    "    y='occup', \n",
    "    data=d1, \n",
    "    estimator=sum, \n",
    "    ci=None, \n",
    ")"
   ]
  },
  {
   "cell_type": "markdown",
   "id": "d5a6be7a",
   "metadata": {},
   "source": [
    "**La majorité des femmes (80 %) n'ont pas d'occupation et 20 % occupent des postes tels que 'ventes', 'agriculture' et 'services'.**"
   ]
  },
  {
   "cell_type": "code",
   "execution_count": 266,
   "id": "611f8e3b",
   "metadata": {},
   "outputs": [
    {
     "name": "stderr",
     "output_type": "stream",
     "text": [
      "c:\\users\\user\\appdata\\local\\programs\\python\\python37\\lib\\site-packages\\ipykernel_launcher.py:23: FutureWarning: \n",
      "\n",
      "The `ci` parameter is deprecated. Use `errorbar=None` for the same effect.\n",
      "\n"
     ]
    },
    {
     "data": {
      "text/plain": [
       "<AxesSubplot:xlabel='fréquence', ylabel='occup'>"
      ]
     },
     "execution_count": 266,
     "metadata": {},
     "output_type": "execute_result"
    },
    {
     "data": {
      "image/png": "[encoded data removed]",
      "text/plain": [
       "<Figure size 360x360 with 1 Axes>"
      ]
     },
     "metadata": {
      "needs_background": "light"
     },
     "output_type": "display_data"
    }
   ],
   "source": [
    "dd1 = df['part_occup'].value_counts().to_frame()\n",
    "dd1 = dd1.reset_index()\n",
    "dd1.columns = ['occup','fréquence']\n",
    "dd1['occup'] = dd1['occup'].replace(0, \"did not work\")\n",
    "dd1['occup'] = dd1['occup'].replace(1, \"professional/technical/managerial\")                     \n",
    "dd1['occup'] = dd1['occup'].replace(2, \"clerical\")\n",
    "dd1['occup'] = dd1['occup'].replace(3,  \"sales\")\n",
    "dd1['occup'] = dd1['occup'].replace(4, \"agricultural - self employed\")\n",
    "dd1['occup'] = dd1['occup'].replace(5, \"agricultural - employee\")\n",
    "dd1['occup'] = dd1['occup'].replace(6, \"household and domestic\")\n",
    "dd1['occup'] = dd1['occup'].replace(7, \"services\")\n",
    "dd1['occup'] = dd1['occup'].replace(8, \"skilled manual\")\n",
    "dd1['occup'] = dd1['occup'].replace(9, \"unskilled manual\")\n",
    "dd1['occup'] = dd1['occup'].replace(96,\"other, not specified\")\n",
    "dd1['occup'] = dd1['occup'].replace(98,\"don't know\")\n",
    "dd1['fréquence'] = (dd1['fréquence']/15714)*100\n",
    "g = sns.FacetGrid(dd1, height=5)\n",
    "sns.barplot(\n",
    "    x=\"fréquence\", \n",
    "    y='occup', \n",
    "    data=dd1, \n",
    "    estimator=sum, \n",
    "    ci=None, \n",
    ")"
   ]
  },
  {
   "cell_type": "markdown",
   "id": "7d9549e6",
   "metadata": {},
   "source": [
    "**On constate que plus de 15% des femmes ne connaissent pas l'occupation de leurs maris, ce qui reflète une absence de communication.**"
   ]
  },
  {
   "cell_type": "markdown",
   "id": "9130218b",
   "metadata": {},
   "source": [
    "### Repartition des individus selons les milieus des residences"
   ]
  },
  {
   "cell_type": "code",
   "execution_count": 250,
   "id": "8783b7b1",
   "metadata": {},
   "outputs": [
    {
     "name": "stderr",
     "output_type": "stream",
     "text": [
      "c:\\users\\user\\appdata\\local\\programs\\python\\python37\\lib\\site-packages\\ipykernel_launcher.py:10: UserWarning: Legend does not support 2 instances.\n",
      "A proxy artist may be used instead.\n",
      "See: https://matplotlib.org/users/legend_guide.html#creating-artists-specifically-for-adding-to-the-legend-aka-proxy-artists\n",
      "  # Remove the CWD from sys.path while we load stuff.\n",
      "c:\\users\\user\\appdata\\local\\programs\\python\\python37\\lib\\site-packages\\ipykernel_launcher.py:10: UserWarning: Legend does not support 1 instances.\n",
      "A proxy artist may be used instead.\n",
      "See: https://matplotlib.org/users/legend_guide.html#creating-artists-specifically-for-adding-to-the-legend-aka-proxy-artists\n",
      "  # Remove the CWD from sys.path while we load stuff.\n"
     ]
    },
    {
     "data": {
      "text/plain": [
       "<matplotlib.legend.Legend at 0x1bb0ceb9548>"
      ]
     },
     "execution_count": 250,
     "metadata": {},
     "output_type": "execute_result"
    },
    {
     "data": {
      "image/png": "[encoded data removed]",
      "text/plain": [
       "<Figure size 432x288 with 1 Axes>"
      ]
     },
     "metadata": {},
     "output_type": "display_data"
    }
   ],
   "source": [
    "fig, ax = plt.subplots()\n",
    "ax.pie(df[\"type_residence\"].value_counts(), \n",
    "       autopct='%1.1f%%',\n",
    "       shadow=True, \n",
    "       startangle=90,\n",
    "       #explode=explode,\n",
    "       radius=1.5\n",
    "       )\n",
    "plt.legend(['rural','urban'],loc=\"center\", bbox_to_anchor=(0.5, -0.2))\n",
    "fig.legend(df[\"type_residence\"].value_counts().index,[ 'urbin','rural'])"
   ]
  },
  {
   "cell_type": "markdown",
   "id": "eaea3b94",
   "metadata": {},
   "source": [
    "**La plupart des répondants habitent dans des milieux ruraux(50.3%).**"
   ]
  },
  {
   "cell_type": "markdown",
   "id": "0f8ccc59",
   "metadata": {},
   "source": [
    "### Repartition des individus selons la variable assurance de maladie ont ou n'ont pas "
   ]
  },
  {
   "cell_type": "code",
   "execution_count": 271,
   "id": "55b6ff82",
   "metadata": {},
   "outputs": [
    {
     "data": {
      "text/plain": [
       "<matplotlib.patches.Circle at 0x1bb0d1d0588>"
      ]
     },
     "execution_count": 271,
     "metadata": {},
     "output_type": "execute_result"
    },
    {
     "data": {
      "image/png": "[encoded data removed]",
      "text/plain": [
       "<Figure size 432x288 with 1 Axes>"
      ]
     },
     "metadata": {},
     "output_type": "display_data"
    }
   ],
   "source": [
    "sizes=df['assuran_maladie'].value_counts()\n",
    "labels = [\"non\",\"oui\"]\n",
    "#colors\n",
    "colors = ['yellow','red']\n",
    "\n",
    "explode = (0.05,0.05)\n",
    " \n",
    "plt.pie(sizes, colors = colors, autopct='%1.1f%%',labels=labels, startangle=90,radius=1.5, pctdistance=0.85, explode = explode)\n",
    "#draw circle\n",
    "centre_circle = plt.Circle((0,0),0.70,fc='white')\n",
    "fig = plt.gcf()\n",
    "fig.gca().add_artist(centre_circle)"
   ]
  },
  {
   "cell_type": "markdown",
   "id": "5b23b99b",
   "metadata": {},
   "source": [
    "**D'après notre graphique, on déduit que seulement 7,3% des répondants ont une assurance maladie, ce qui est un pourcentage très faible par rapport à ceux qui n'en ont pas(92.7%).**"
   ]
  },
  {
   "cell_type": "code",
   "execution_count": 276,
   "id": "9fe7ddee",
   "metadata": {},
   "outputs": [
    {
     "name": "stderr",
     "output_type": "stream",
     "text": [
      "c:\\users\\user\\appdata\\local\\programs\\python\\python37\\lib\\site-packages\\ipykernel_launcher.py:13: UserWarning: You have mixed positional and keyword arguments, some input may be discarded.\n",
      "  del sys.path[0]\n"
     ]
    },
    {
     "data": {
      "text/plain": [
       "<matplotlib.legend.Legend at 0x1bb0de87e08>"
      ]
     },
     "execution_count": 276,
     "metadata": {},
     "output_type": "execute_result"
    },
    {
     "data": {
      "image/png": "[encoded data removed]",
      "text/plain": [
       "<Figure size 432x288 with 1 Axes>"
      ]
     },
     "metadata": {},
     "output_type": "display_data"
    }
   ],
   "source": [
    "fig, ax = plt.subplots()\n",
    "colors = ['white','black']\n",
    "ax.pie(df['arg_necess'].value_counts(),\n",
    "       \n",
    "       autopct='%1.1f%%',\n",
    "       shadow=True, \n",
    "       startangle=90,\n",
    "       #explode=explode,\n",
    "       radius=1.5,\n",
    "       colors=colors\n",
    "       \n",
    "       )\n",
    "fig.legend(df['arg_necess'].value_counts().index,labels=['big problem','not a big problem'])"
   ]
  },
  {
   "cell_type": "markdown",
   "id": "eee19d0b",
   "metadata": {},
   "source": [
    "**La plupart des répondants (55,3 %) parmi les individus considèrent l'argent comme un problème lorsqu'ils ont besoin d'une aide médicale.**"
   ]
  },
  {
   "cell_type": "code",
   "execution_count": 480,
   "id": "0de97c09",
   "metadata": {},
   "outputs": [],
   "source": [
    "## Indice de richesse "
   ]
  },
  {
   "cell_type": "code",
   "execution_count": null,
   "id": "c0497372",
   "metadata": {},
   "outputs": [],
   "source": [
    "cross0=pd.crosstab(df0['indice_richesse'],[df0['arg_necess']], margins =True,normalize='index')"
   ]
  },
  {
   "cell_type": "code",
   "execution_count": 479,
   "id": "90240bba",
   "metadata": {},
   "outputs": [
    {
     "data": {
      "text/plain": [
       "([], [])"
      ]
     },
     "execution_count": 479,
     "metadata": {},
     "output_type": "execute_result"
    },
    {
     "data": {
      "image/png": "[encoded data removed]",
      "text/plain": [
       "<Figure size 1080x288 with 1 Axes>"
      ]
     },
     "metadata": {
      "needs_background": "light"
     },
     "output_type": "display_data"
    }
   ],
   "source": [
    "ax = cross0.plot(kind='bar',figsize=(15,4),width = 0.8,color = ['Green','Gray','orange','pink','black',],edgecolor=None)\n",
    "plt.legend(labels=cross0.columns,fontsize= 14)\n",
    "plt.title(\" \",fontsize= 16)\n",
    "\n",
    "plt.xticks(fontsize=14)\n",
    "for spine in plt.gca().spines.values():\n",
    "    spine.set_visible(False)\n",
    "plt.yticks([])"
   ]
  },
  {
   "cell_type": "markdown",
   "id": "40a15511",
   "metadata": {},
   "source": [
    "**On constate que les individus classés dans les zones les plus pauvres et de classe moyenne rencontrent souvent des problèmes financiers pour accéder à un point de santé en cas de besoin.**"
   ]
  },
  {
   "cell_type": "markdown",
   "id": "2de2a1ae",
   "metadata": {},
   "source": [
    "## 2.Statistique Multivariée"
   ]
  },
  {
   "cell_type": "markdown",
   "id": "cf993c21",
   "metadata": {},
   "source": [
    "#### Voyons voir la possibilité qu'un individu ait l'argent nécessaire en cas de besoin d'une aide médicale en fonction de la région et du type de milieu de résidence"
   ]
  },
  {
   "cell_type": "code",
   "execution_count": 358,
   "id": "8d0bac2d",
   "metadata": {},
   "outputs": [
    {
     "name": "stderr",
     "output_type": "stream",
     "text": [
      "c:\\users\\user\\appdata\\local\\programs\\python\\python37\\lib\\site-packages\\ipykernel_launcher.py:19: SettingWithCopyWarning: \n",
      "A value is trying to be set on a copy of a slice from a DataFrame.\n",
      "Try using .loc[row_indexer,col_indexer] = value instead\n",
      "\n",
      "See the caveats in the documentation: https://pandas.pydata.org/pandas-docs/stable/user_guide/indexing.html#returning-a-view-versus-a-copy\n"
     ]
    }
   ],
   "source": [
    "df2=df[['region','type_residence','arg_necess']]\n",
    "reg = []\n",
    "for row in df2['region']:\n",
    "    if row == 1 :   reg.append(\"Hodh Echargui\")\n",
    "    elif row == 2:  reg.append(\"Hodh Gharbi\")\n",
    "    elif row == 3:  reg.append(\"Assaba\")\n",
    "    elif row == 4:  reg.append(\"Gorgol\")\n",
    "    elif row == 5:  reg.append(\"Brakna\")\n",
    "    elif row == 6:  reg.append(\"Trarza\")\n",
    "    elif row == 7:  reg.append(\"Adrar\")\n",
    "    elif row == 8:  reg.append(\"Dakhlet Nouadhibou\")\n",
    "    elif row == 9:  reg.append(\"Tagant\")\n",
    "    elif row == 10:  reg.append(\"Guidimagha\")\n",
    "    elif row == 11:  reg.append(\"Tiris Zemour et Inchiri\")\n",
    "    elif row == 12:  reg.append(\"Nouakchott Ouest\")\n",
    "    elif row == 13:  reg.append(\"Nouakchott Nord\")\n",
    "    elif row == 14:  reg.append(\"Nouakchott Sud\")\n",
    "    else:           reg.append('Nan')\n",
    "df2['region'] = reg\n"
   ]
  },
  {
   "cell_type": "code",
   "execution_count": 359,
   "id": "e305a1e4",
   "metadata": {},
   "outputs": [
    {
     "name": "stderr",
     "output_type": "stream",
     "text": [
      "c:\\users\\user\\appdata\\local\\programs\\python\\python37\\lib\\site-packages\\ipykernel_launcher.py:6: SettingWithCopyWarning: \n",
      "A value is trying to be set on a copy of a slice from a DataFrame.\n",
      "Try using .loc[row_indexer,col_indexer] = value instead\n",
      "\n",
      "See the caveats in the documentation: https://pandas.pydata.org/pandas-docs/stable/user_guide/indexing.html#returning-a-view-versus-a-copy\n",
      "  \n"
     ]
    }
   ],
   "source": [
    "res = []\n",
    "for row in df2['type_residence']:\n",
    "    if row == 1 :   res.append(\"urban\")\n",
    "    elif row == 2:  res.append(\"rural\")\n",
    "    else:           res.append('Nan')\n",
    "df2['type_residence'] =res\n"
   ]
  },
  {
   "cell_type": "code",
   "execution_count": 361,
   "id": "e071630f",
   "metadata": {},
   "outputs": [
    {
     "data": {
      "text/plain": [
       "array([2, 1], dtype=int8)"
      ]
     },
     "execution_count": 361,
     "metadata": {},
     "output_type": "execute_result"
    }
   ],
   "source": [
    "df2['arg_necess'].unique()"
   ]
  },
  {
   "cell_type": "code",
   "execution_count": 362,
   "id": "15ddd37c",
   "metadata": {},
   "outputs": [
    {
     "name": "stderr",
     "output_type": "stream",
     "text": [
      "c:\\users\\user\\appdata\\local\\programs\\python\\python37\\lib\\site-packages\\ipykernel_launcher.py:6: SettingWithCopyWarning: \n",
      "A value is trying to be set on a copy of a slice from a DataFrame.\n",
      "Try using .loc[row_indexer,col_indexer] = value instead\n",
      "\n",
      "See the caveats in the documentation: https://pandas.pydata.org/pandas-docs/stable/user_guide/indexing.html#returning-a-view-versus-a-copy\n",
      "  \n"
     ]
    }
   ],
   "source": [
    "arg = []\n",
    "for row in df2['arg_necess']:\n",
    "    if row == 2 :   arg.append(\"big problem\")\n",
    "    elif row == 1:  arg.append(\"not a big problem\")\n",
    "    else:           arg.append('Nan')\n",
    "df2['arg_necess'] =arg"
   ]
  },
  {
   "cell_type": "code",
   "execution_count": null,
   "id": "46bd1563",
   "metadata": {},
   "outputs": [],
   "source": [
    "crossta=pd.crosstab([df2['region'],df2['type_residence']],df2['arg_necess'], margins =True,normalize='index')\n",
    "crossta = crossta.rename(columns={'big problem': 'not big problem'})\n",
    "crossta = crossta.rename(columns={'not a big problem': 'big problem'})"
   ]
  },
  {
   "cell_type": "code",
   "execution_count": 407,
   "id": "853b35b9",
   "metadata": {},
   "outputs": [
    {
     "data": {
      "text/plain": [
       "([], [])"
      ]
     },
     "execution_count": 407,
     "metadata": {},
     "output_type": "execute_result"
    },
    {
     "data": {
      "image/png": "[encoded data removed]",
      "text/plain": [
       "<Figure size 1080x288 with 1 Axes>"
      ]
     },
     "metadata": {
      "needs_background": "light"
     },
     "output_type": "display_data"
    }
   ],
   "source": [
    "ax = crossta.plot(kind='bar',figsize=(15,4),width = 0.8,color = ['orange','black'],edgecolor=None)\n",
    "plt.legend(labels=crossta.columns,fontsize= 14)\n",
    "plt.title(\" Montant d'argent nécessaire par région et par type de résidence pour accéder à un point de santé en cas de besoin\",fontsize= 16)\n",
    "\n",
    "plt.xticks(fontsize=14)\n",
    "for spine in plt.gca().spines.values():\n",
    "    spine.set_visible(False)\n",
    "plt.yticks([])"
   ]
  },
  {
   "cell_type": "markdown",
   "id": "9db08ddc",
   "metadata": {},
   "source": [
    "**D'après ce graphique, la majorité des personnes, quel que soit leur lieu de résidence ou leur région, rencontrent toujours des difficultés de financement médical lorsqu'elles ont besoin d'une aide médicale. On remarque également un écart important entre les personnes résidant dans des milieux ruraux et urbains pae exemple dans la région de Dakhlet Nouadhibou. On constate que 80% des personnes en milieu urbain n'ont pas de problèmes d'argent pour accéder aux soins de santé, contrairement aux 83% en milieu rural.**"
   ]
  },
  {
   "cell_type": "markdown",
   "id": "d92d6701",
   "metadata": {},
   "source": [
    "#### Voyons voir la possibilité qu'un individu a un asserance maladie  en fonction de la région et du type de milieu de résidence"
   ]
  },
  {
   "cell_type": "code",
   "execution_count": 397,
   "id": "966d158b",
   "metadata": {},
   "outputs": [
    {
     "name": "stderr",
     "output_type": "stream",
     "text": [
      "c:\\users\\user\\appdata\\local\\programs\\python\\python37\\lib\\site-packages\\ipykernel_launcher.py:19: SettingWithCopyWarning: \n",
      "A value is trying to be set on a copy of a slice from a DataFrame.\n",
      "Try using .loc[row_indexer,col_indexer] = value instead\n",
      "\n",
      "See the caveats in the documentation: https://pandas.pydata.org/pandas-docs/stable/user_guide/indexing.html#returning-a-view-versus-a-copy\n",
      "c:\\users\\user\\appdata\\local\\programs\\python\\python37\\lib\\site-packages\\ipykernel_launcher.py:25: SettingWithCopyWarning: \n",
      "A value is trying to be set on a copy of a slice from a DataFrame.\n",
      "Try using .loc[row_indexer,col_indexer] = value instead\n",
      "\n",
      "See the caveats in the documentation: https://pandas.pydata.org/pandas-docs/stable/user_guide/indexing.html#returning-a-view-versus-a-copy\n",
      "c:\\users\\user\\appdata\\local\\programs\\python\\python37\\lib\\site-packages\\ipykernel_launcher.py:31: SettingWithCopyWarning: \n",
      "A value is trying to be set on a copy of a slice from a DataFrame.\n",
      "Try using .loc[row_indexer,col_indexer] = value instead\n",
      "\n",
      "See the caveats in the documentation: https://pandas.pydata.org/pandas-docs/stable/user_guide/indexing.html#returning-a-view-versus-a-copy\n"
     ]
    }
   ],
   "source": [
    "df4=df[['region','type_residence','assuran_maladie']]\n",
    "reg = []\n",
    "for row in df4['region']:\n",
    "    if row == 1 :   reg.append(\"Hodh Echargui\")\n",
    "    elif row == 2:  reg.append(\"Hodh Gharbi\")\n",
    "    elif row == 3:  reg.append(\"Assaba\")\n",
    "    elif row == 4:  reg.append(\"Gorgol\")\n",
    "    elif row == 5:  reg.append(\"Brakna\")\n",
    "    elif row == 6:  reg.append(\"Trarza\")\n",
    "    elif row == 7:  reg.append(\"Adrar\")\n",
    "    elif row == 8:  reg.append(\"Dakhlet Nouadhibou\")\n",
    "    elif row == 9:  reg.append(\"Tagant\")\n",
    "    elif row == 10:  reg.append(\"Guidimagha\")\n",
    "    elif row == 11:  reg.append(\"Tiris Zemour et Inchiri\")\n",
    "    elif row == 12:  reg.append(\"Nouakchott Ouest\")\n",
    "    elif row == 13:  reg.append(\"Nouakchott Nord\")\n",
    "    elif row == 14:  reg.append(\"Nouakchott Sud\")\n",
    "    else:           reg.append('Nan')\n",
    "df4['region'] = reg\n",
    "res = []\n",
    "for row in df4['type_residence']:\n",
    "    if row == 1 :   res.append(\"urban\")\n",
    "    elif row == 2:  res.append(\"rural\")\n",
    "    else:           res.append('Nan')\n",
    "df4['type_residence'] =res\n",
    "ass = []\n",
    "for row in df4['assuran_maladie']:\n",
    "    if row == 0 :   ass.append(\"no\")\n",
    "    elif row == 1:  ass.append(\"yes\")\n",
    "    else:           ass.append('Nan')\n",
    "df4['assuran_maladie'] =ass"
   ]
  },
  {
   "cell_type": "code",
   "execution_count": null,
   "id": "d154a0dd",
   "metadata": {},
   "outputs": [],
   "source": [
    "cross4=pd.crosstab([df4['region'],df4['type_residence']],df4['assuran_maladie'], margins =True,normalize='index')"
   ]
  },
  {
   "cell_type": "code",
   "execution_count": 408,
   "id": "b0d9373b",
   "metadata": {},
   "outputs": [
    {
     "data": {
      "text/plain": [
       "([], [])"
      ]
     },
     "execution_count": 408,
     "metadata": {},
     "output_type": "execute_result"
    },
    {
     "data": {
      "image/png": "[encoded data removed]",
      "text/plain": [
       "<Figure size 1080x288 with 1 Axes>"
      ]
     },
     "metadata": {
      "needs_background": "light"
     },
     "output_type": "display_data"
    }
   ],
   "source": [
    "ax = cross4.plot(kind='bar',figsize=(15,4),width = 0.8,color = ['purple','brown'],edgecolor=None)\n",
    "plt.legend(labels=cross4.columns,fontsize= 14)\n",
    "plt.title(\"Assurance maladie par région et type de résidence \",fontsize= 16)\n",
    "\n",
    "plt.xticks(fontsize=14)\n",
    "for spine in plt.gca().spines.values():\n",
    "    spine.set_visible(False)\n",
    "plt.yticks([])"
   ]
  },
  {
   "cell_type": "markdown",
   "id": "3438c954",
   "metadata": {},
   "source": [
    "**Selon les données ce graphique, on observe que la majorité des individus bénéficiant de l'assurance médicale de sécurité sociale résident dans des zones urbaines, notamment dans les régions de Dakhlet Nouadhibou, Nouakchott , Nouadhibou et Hodh Charghi**"
   ]
  },
  {
   "cell_type": "markdown",
   "id": "81465b7e",
   "metadata": {},
   "source": [
    "**Education en fonction de l'assurance et les variables concernant les problemes de financement medicale**"
   ]
  },
  {
   "cell_type": "code",
   "execution_count": 437,
   "id": "23dd0906",
   "metadata": {},
   "outputs": [
    {
     "name": "stderr",
     "output_type": "stream",
     "text": [
      "c:\\users\\user\\appdata\\local\\programs\\python\\python37\\lib\\site-packages\\ipykernel_launcher.py:11: SettingWithCopyWarning: \n",
      "A value is trying to be set on a copy of a slice from a DataFrame.\n",
      "Try using .loc[row_indexer,col_indexer] = value instead\n",
      "\n",
      "See the caveats in the documentation: https://pandas.pydata.org/pandas-docs/stable/user_guide/indexing.html#returning-a-view-versus-a-copy\n",
      "  # This is added back by InteractiveShellApp.init_path()\n",
      "c:\\users\\user\\appdata\\local\\programs\\python\\python37\\lib\\site-packages\\ipykernel_launcher.py:18: SettingWithCopyWarning: \n",
      "A value is trying to be set on a copy of a slice from a DataFrame.\n",
      "Try using .loc[row_indexer,col_indexer] = value instead\n",
      "\n",
      "See the caveats in the documentation: https://pandas.pydata.org/pandas-docs/stable/user_guide/indexing.html#returning-a-view-versus-a-copy\n",
      "c:\\users\\user\\appdata\\local\\programs\\python\\python37\\lib\\site-packages\\ipykernel_launcher.py:25: SettingWithCopyWarning: \n",
      "A value is trying to be set on a copy of a slice from a DataFrame.\n",
      "Try using .loc[row_indexer,col_indexer] = value instead\n",
      "\n",
      "See the caveats in the documentation: https://pandas.pydata.org/pandas-docs/stable/user_guide/indexing.html#returning-a-view-versus-a-copy\n"
     ]
    }
   ],
   "source": [
    "df6=df[['education','assuran_maladie','arg_necess']]\n",
    "ed = []\n",
    "for row in df6['education']:\n",
    "    if row == 0 :   ed.append(\"no education\")\n",
    "    elif row == 1:  ed.append(\"incomplete primary\")\n",
    "    elif row == 2:  ed.append(\"complete primary\")\n",
    "    elif row == 3:  ed.append(\" incomplete secondary\")\n",
    "    elif row == 4:  ed.append(\"complete secondary\")\n",
    "    elif row == 5:  ed.append(\"higher\")\n",
    "    else:           ed.append('Nan')\n",
    "df6['education'] =ed       \n",
    "\n",
    "ass=[]        \n",
    "for row in df6['assuran_maladie']:\n",
    "    if row == 0 :   ass.append(\"no\")\n",
    "    elif row == 1:  ass.append(\"yes\")\n",
    "    else:           ass.append('Nan')\n",
    "df6['assuran_maladie'] =ass \n",
    "    \n",
    "arg = []\n",
    "for row in df6['arg_necess']:\n",
    "    if row == 2 :   arg.append(\"not a big problem\")\n",
    "    elif row == 1:  arg.append(\"big problem\")\n",
    "    else:           arg.append('Nan')\n",
    "df6['arg_necess'] =arg"
   ]
  },
  {
   "cell_type": "code",
   "execution_count": null,
   "id": "45f337b9",
   "metadata": {},
   "outputs": [],
   "source": [
    "cross6=pd.crosstab(df6['education'],[df6['assuran_maladie'],df6['arg_necess']], margins =True,normalize='index')"
   ]
  },
  {
   "cell_type": "code",
   "execution_count": 441,
   "id": "f52d40d5",
   "metadata": {},
   "outputs": [
    {
     "data": {
      "text/plain": [
       "([], [])"
      ]
     },
     "execution_count": 441,
     "metadata": {},
     "output_type": "execute_result"
    },
    {
     "data": {
      "image/png": "[encoded data removed]",
      "text/plain": [
       "<Figure size 1080x288 with 1 Axes>"
      ]
     },
     "metadata": {
      "needs_background": "light"
     },
     "output_type": "display_data"
    }
   ],
   "source": [
    "ax = cross6.plot(kind='bar',figsize=(15,4),width = 0.8,color = ['Green','Gray','orange','pink'],edgecolor=None)\n",
    "plt.legend(labels=cross6.columns,fontsize= 14)\n",
    "plt.title(\" \",fontsize= 16)\n",
    "\n",
    "plt.xticks(fontsize=14)\n",
    "for spine in plt.gca().spines.values():\n",
    "    spine.set_visible(False)\n",
    "plt.yticks([])"
   ]
  },
  {
   "cell_type": "markdown",
   "id": "e31d5c54",
   "metadata": {},
   "source": [
    "**On constate d'après ce graphe que les individus ayant suivi des études supérieures ou ayant achevé leur scolarité secondaire rencontrent généralement moins de problèmes pour accéder à un point de santé en cas de besoin. En revanche, pour les personnes peu éduquées ou ayant suivi uniquement des études primaires, les difficultés financières pour accéder à des soins de santé sont plus fréquentes.**"
   ]
  },
  {
   "cell_type": "code",
   "execution_count": 443,
   "id": "bcde359e",
   "metadata": {},
   "outputs": [
    {
     "name": "stderr",
     "output_type": "stream",
     "text": [
      "c:\\users\\user\\appdata\\local\\programs\\python\\python37\\lib\\site-packages\\ipykernel_launcher.py:19: SettingWithCopyWarning: \n",
      "A value is trying to be set on a copy of a slice from a DataFrame.\n",
      "Try using .loc[row_indexer,col_indexer] = value instead\n",
      "\n",
      "See the caveats in the documentation: https://pandas.pydata.org/pandas-docs/stable/user_guide/indexing.html#returning-a-view-versus-a-copy\n",
      "c:\\users\\user\\appdata\\local\\programs\\python\\python37\\lib\\site-packages\\ipykernel_launcher.py:25: SettingWithCopyWarning: \n",
      "A value is trying to be set on a copy of a slice from a DataFrame.\n",
      "Try using .loc[row_indexer,col_indexer] = value instead\n",
      "\n",
      "See the caveats in the documentation: https://pandas.pydata.org/pandas-docs/stable/user_guide/indexing.html#returning-a-view-versus-a-copy\n",
      "c:\\users\\user\\appdata\\local\\programs\\python\\python37\\lib\\site-packages\\ipykernel_launcher.py:32: SettingWithCopyWarning: \n",
      "A value is trying to be set on a copy of a slice from a DataFrame.\n",
      "Try using .loc[row_indexer,col_indexer] = value instead\n",
      "\n",
      "See the caveats in the documentation: https://pandas.pydata.org/pandas-docs/stable/user_guide/indexing.html#returning-a-view-versus-a-copy\n"
     ]
    }
   ],
   "source": [
    "df7=df[['region','type_residence','dist_etabSante']]\n",
    "reg = []\n",
    "for row in df7['region']:\n",
    "    if row == 1 :   reg.append(\"Hodh Echargui\")\n",
    "    elif row == 2:  reg.append(\"Hodh Gharbi\")\n",
    "    elif row == 3:  reg.append(\"Assaba\")\n",
    "    elif row == 4:  reg.append(\"Gorgol\")\n",
    "    elif row == 5:  reg.append(\"Brakna\")\n",
    "    elif row == 6:  reg.append(\"Trarza\")\n",
    "    elif row == 7:  reg.append(\"Adrar\")\n",
    "    elif row == 8:  reg.append(\"Dakhlet Nouadhibou\")\n",
    "    elif row == 9:  reg.append(\"Tagant\")\n",
    "    elif row == 10:  reg.append(\"Guidimagha\")\n",
    "    elif row == 11:  reg.append(\"Tiris Zemour et Inchiri\")\n",
    "    elif row == 12:  reg.append(\"Nouakchott Ouest\")\n",
    "    elif row == 13:  reg.append(\"Nouakchott Nord\")\n",
    "    elif row == 14:  reg.append(\"Nouakchott Sud\")\n",
    "    else:           reg.append('Nan')\n",
    "df7['region'] = reg\n",
    "res = []\n",
    "for row in df7['type_residence']:\n",
    "    if row == 1 :   res.append(\"urban\")\n",
    "    elif row == 2:  res.append(\"rural\")\n",
    "    else:           res.append('Nan')\n",
    "df7['type_residence'] =res\n",
    "ass = []\n",
    "for row in df7['dist_etabSante']:\n",
    "    if row == 0 :   ass.append(\"no problem\")\n",
    "    elif row == 1:  ass.append(\"big problem\")\n",
    "    elif row == 2:  ass.append(\"not a big problem\")\n",
    "    else:           ass.append('Nan')\n",
    "df7['dist_etabSante'] =ass"
   ]
  },
  {
   "cell_type": "code",
   "execution_count": 445,
   "id": "3aab2ea9",
   "metadata": {},
   "outputs": [],
   "source": [
    "cross7=pd.crosstab([df7['region'],df7['type_residence']],df7['dist_etabSante'], margins =True,normalize='index')"
   ]
  },
  {
   "cell_type": "code",
   "execution_count": 516,
   "id": "e0f4827c",
   "metadata": {},
   "outputs": [
    {
     "data": {
      "text/plain": [
       "([], [])"
      ]
     },
     "execution_count": 516,
     "metadata": {},
     "output_type": "execute_result"
    },
    {
     "data": {
      "image/png": "[encoded data removed]",
      "text/plain": [
       "<Figure size 1080x288 with 1 Axes>"
      ]
     },
     "metadata": {
      "needs_background": "light"
     },
     "output_type": "display_data"
    }
   ],
   "source": [
    "ax = cross7.plot(kind='bar',figsize=(15,4),width = 0.8,color = ['Green','black'],edgecolor=None)\n",
    "plt.legend(labels=cross7.columns,fontsize= 14)\n",
    "plt.title(\" \",fontsize= 16)\n",
    "\n",
    "plt.xticks(fontsize=14)\n",
    "for spine in plt.gca().spines.values():\n",
    "    spine.set_visible(False)\n",
    "plt.yticks([])"
   ]
  },
  {
   "cell_type": "markdown",
   "id": "1503dfdc",
   "metadata": {},
   "source": [
    "**On constate d'après ce graphe que la distance entre le domicile et le point de santé représente un problème majeur pour la plupart des milieux ruraux dans toutes les régions du pays.**"
   ]
  },
  {
   "cell_type": "code",
   "execution_count": 507,
   "id": "d9f13ff1",
   "metadata": {},
   "outputs": [
    {
     "name": "stderr",
     "output_type": "stream",
     "text": [
      "c:\\users\\user\\appdata\\local\\programs\\python\\python37\\lib\\site-packages\\ipykernel_launcher.py:7: SettingWithCopyWarning: \n",
      "A value is trying to be set on a copy of a slice from a DataFrame.\n",
      "Try using .loc[row_indexer,col_indexer] = value instead\n",
      "\n",
      "See the caveats in the documentation: https://pandas.pydata.org/pandas-docs/stable/user_guide/indexing.html#returning-a-view-versus-a-copy\n",
      "  import sys\n",
      "c:\\users\\user\\appdata\\local\\programs\\python\\python37\\lib\\site-packages\\ipykernel_launcher.py:14: SettingWithCopyWarning: \n",
      "A value is trying to be set on a copy of a slice from a DataFrame.\n",
      "Try using .loc[row_indexer,col_indexer] = value instead\n",
      "\n",
      "See the caveats in the documentation: https://pandas.pydata.org/pandas-docs/stable/user_guide/indexing.html#returning-a-view-versus-a-copy\n",
      "  \n",
      "c:\\users\\user\\appdata\\local\\programs\\python\\python37\\lib\\site-packages\\ipykernel_launcher.py:21: SettingWithCopyWarning: \n",
      "A value is trying to be set on a copy of a slice from a DataFrame.\n",
      "Try using .loc[row_indexer,col_indexer] = value instead\n",
      "\n",
      "See the caveats in the documentation: https://pandas.pydata.org/pandas-docs/stable/user_guide/indexing.html#returning-a-view-versus-a-copy\n"
     ]
    }
   ],
   "source": [
    "df8=df[['assuran_maladie','arg_necess','cancer']]\n",
    "ed = []\n",
    "for row in df8['cancer']:\n",
    "    if row == 0.0 :   ed.append(\"no\")\n",
    "    elif row == 1.0:  ed.append(\"yes\")\n",
    "    else:           ed.append('Nan')\n",
    "df8['cancer'] =ed       \n",
    "\n",
    "ass=[]        \n",
    "for row in df8['assuran_maladie']:\n",
    "    if row == 0 :   ass.append(\"no\")\n",
    "    elif row == 1:  ass.append(\"yes\")\n",
    "    else:           ass.append('Nan')\n",
    "df8['assuran_maladie'] =ass \n",
    "    \n",
    "arg = []\n",
    "for row in df8['arg_necess']:\n",
    "    if row == 2 :   arg.append(\"not a big problem\")\n",
    "    elif row == 1:  arg.append(\"big problem\")\n",
    "    else:           arg.append('Nan')\n",
    "df8['arg_necess'] =arg"
   ]
  },
  {
   "cell_type": "code",
   "execution_count": 509,
   "id": "f95aa6a4",
   "metadata": {},
   "outputs": [
    {
     "data": {
      "text/plain": [
       "([], [])"
      ]
     },
     "execution_count": 509,
     "metadata": {},
     "output_type": "execute_result"
    },
    {
     "data": {
      "image/png": "[encoded data removed]",
      "text/plain": [
       "<Figure size 1080x288 with 1 Axes>"
      ]
     },
     "metadata": {
      "needs_background": "light"
     },
     "output_type": "display_data"
    }
   ],
   "source": [
    "cross8=pd.crosstab(df8['cancer'],[df8['assuran_maladie'],df8['arg_necess']], margins =True,normalize='index')\n",
    "ax = cross8.plot(kind='bar',figsize=(15,4),width = 0.8,color = ['Green','Gray','orange','pink'],edgecolor=None)\n",
    "plt.legend(labels=cross8.columns,fontsize= 14)\n",
    "plt.title(\" \",fontsize= 16)\n",
    "\n",
    "plt.xticks(fontsize=14)\n",
    "for spine in plt.gca().spines.values():\n",
    "    spine.set_visible(False)\n",
    "plt.yticks([])"
   ]
  },
  {
   "cell_type": "code",
   "execution_count": 512,
   "id": "7ec75f08",
   "metadata": {},
   "outputs": [
    {
     "name": "stderr",
     "output_type": "stream",
     "text": [
      "c:\\users\\user\\appdata\\local\\programs\\python\\python37\\lib\\site-packages\\ipykernel_launcher.py:7: SettingWithCopyWarning: \n",
      "A value is trying to be set on a copy of a slice from a DataFrame.\n",
      "Try using .loc[row_indexer,col_indexer] = value instead\n",
      "\n",
      "See the caveats in the documentation: https://pandas.pydata.org/pandas-docs/stable/user_guide/indexing.html#returning-a-view-versus-a-copy\n",
      "  import sys\n",
      "c:\\users\\user\\appdata\\local\\programs\\python\\python37\\lib\\site-packages\\ipykernel_launcher.py:14: SettingWithCopyWarning: \n",
      "A value is trying to be set on a copy of a slice from a DataFrame.\n",
      "Try using .loc[row_indexer,col_indexer] = value instead\n",
      "\n",
      "See the caveats in the documentation: https://pandas.pydata.org/pandas-docs/stable/user_guide/indexing.html#returning-a-view-versus-a-copy\n",
      "  \n",
      "c:\\users\\user\\appdata\\local\\programs\\python\\python37\\lib\\site-packages\\ipykernel_launcher.py:21: SettingWithCopyWarning: \n",
      "A value is trying to be set on a copy of a slice from a DataFrame.\n",
      "Try using .loc[row_indexer,col_indexer] = value instead\n",
      "\n",
      "See the caveats in the documentation: https://pandas.pydata.org/pandas-docs/stable/user_guide/indexing.html#returning-a-view-versus-a-copy\n"
     ]
    }
   ],
   "source": [
    "df9=df[['assuran_maladie','arg_necess','diabetes']]\n",
    "ed = []\n",
    "for row in df9['diabetes']:\n",
    "    if row == 0 :   ed.append(\"no\")\n",
    "    elif row == 1:  ed.append(\"yes\")\n",
    "    else:           ed.append('Nan')\n",
    "df9['diabetes'] =ed       \n",
    "\n",
    "ass=[]        \n",
    "for row in df9['assuran_maladie']:\n",
    "    if row == 0 :   ass.append(\"no\")\n",
    "    elif row == 1:  ass.append(\"yes\")\n",
    "    else:           ass.append('Nan')\n",
    "df9['assuran_maladie'] =ass \n",
    "    \n",
    "arg = []\n",
    "for row in df9['arg_necess']:\n",
    "    if row == 2 :   arg.append(\"not a big problem\")\n",
    "    elif row == 1:  arg.append(\"big problem\")\n",
    "    else:           arg.append('Nan')\n",
    "df9['arg_necess'] =arg"
   ]
  },
  {
   "cell_type": "code",
   "execution_count": 515,
   "id": "6873cd91",
   "metadata": {},
   "outputs": [
    {
     "data": {
      "text/plain": [
       "([], [])"
      ]
     },
     "execution_count": 515,
     "metadata": {},
     "output_type": "execute_result"
    },
    {
     "data": {
      "image/png": "[encoded data removed]",
      "text/plain": [
       "<Figure size 1080x288 with 1 Axes>"
      ]
     },
     "metadata": {
      "needs_background": "light"
     },
     "output_type": "display_data"
    }
   ],
   "source": [
    "cross9=pd.crosstab(df9['diabetes'],[df9['assuran_maladie'],df9['arg_necess']], margins =True,normalize='index')\n",
    "ax = cross9.plot(kind='bar',figsize=(15,4),width = 0.8,color = ['black','purple','red','yellow'],edgecolor=None)\n",
    "plt.legend(labels=cross9.columns,fontsize= 14)\n",
    "plt.title(\" \",fontsize= 16)\n",
    "\n",
    "plt.xticks(fontsize=14)\n",
    "for spine in plt.gca().spines.values():\n",
    "    spine.set_visible(False)\n",
    "plt.yticks([])"
   ]
  },
  {
   "cell_type": "markdown",
   "id": "5ec7f0d2",
   "metadata": {},
   "source": [
    "##  3. Creation des modèles de machine learning"
   ]
  },
  {
   "cell_type": "markdown",
   "id": "5c5958df",
   "metadata": {},
   "source": [
    "**creation de l'indice de mortalite en sommant les deux variables 'v207': \"Daughters who have died\" , 'v206':\"Sons who have died\"**  "
   ]
  },
  {
   "cell_type": "code",
   "execution_count": 569,
   "id": "f4a67b00",
   "metadata": {},
   "outputs": [],
   "source": [
    "data['indice_mortalite']=(data['Daughters who have died']+data['Sons who have died'])\\"
   ]
  },
  {
   "cell_type": "markdown",
   "id": "9f88c520",
   "metadata": {},
   "source": [
    "### Considerons l'indice de mortalité  comme le target pour explique l'inégalité en matière de santé publique \n"
   ]
  },
  {
   "cell_type": "markdown",
   "id": "4f49453d",
   "metadata": {},
   "source": [
    "**split data into training and testing sets**"
   ]
  },
  {
   "cell_type": "code",
   "execution_count": 620,
   "id": "64c80e93",
   "metadata": {},
   "outputs": [],
   "source": [
    "X = data.drop(['indice_mortalite','Daughters who have died','Sons who have died'], axis=1)\n",
    "y = data[['indice_mortalite']]\n",
    "\n",
    "X_train, X_test, y_train, y_test = train_test_split(X, y, test_size=0.3, random_state=42)"
   ]
  },
  {
   "cell_type": "markdown",
   "id": "5a1707c5",
   "metadata": {},
   "source": [
    "### LogisticRegression"
   ]
  },
  {
   "cell_type": "code",
   "execution_count": 621,
   "id": "92334532",
   "metadata": {},
   "outputs": [
    {
     "name": "stderr",
     "output_type": "stream",
     "text": [
      "c:\\users\\user\\appdata\\local\\programs\\python\\python37\\lib\\site-packages\\sklearn\\utils\\validation.py:63: DataConversionWarning: A column-vector y was passed when a 1d array was expected. Please change the shape of y to (n_samples, ), for example using ravel().\n",
      "  return f(*args, **kwargs)\n"
     ]
    },
    {
     "name": "stdout",
     "output_type": "stream",
     "text": [
      "Logistic Regression Accuracy: 0.8933191940615058\n"
     ]
    },
    {
     "name": "stderr",
     "output_type": "stream",
     "text": [
      "c:\\users\\user\\appdata\\local\\programs\\python\\python37\\lib\\site-packages\\sklearn\\linear_model\\_logistic.py:765: ConvergenceWarning: lbfgs failed to converge (status=1):\n",
      "STOP: TOTAL NO. of ITERATIONS REACHED LIMIT.\n",
      "\n",
      "Increase the number of iterations (max_iter) or scale the data as shown in:\n",
      "    https://scikit-learn.org/stable/modules/preprocessing.html\n",
      "Please also refer to the documentation for alternative solver options:\n",
      "    https://scikit-learn.org/stable/modules/linear_model.html#logistic-regression\n",
      "  extra_warning_msg=_LOGISTIC_SOLVER_CONVERGENCE_MSG)\n"
     ]
    }
   ],
   "source": [
    "log_reg = LogisticRegression()\n",
    "# fit models to training data\n",
    "log_reg.fit(X_train, y_train)\n",
    "# make predictions on testing data\n",
    "log_reg_preds = log_reg.predict(X_test)\n",
    "# evaluate models using accuracy score\n",
    "log_reg_acc = accuracy_score(y_test, log_reg_preds)\n",
    "# print accuracy scores for each model\n",
    "print(\"Logistic Regression Accuracy:\", log_reg_acc)"
   ]
  },
  {
   "cell_type": "markdown",
   "id": "7edb3507",
   "metadata": {},
   "source": [
    "## Random Forest : "
   ]
  },
  {
   "cell_type": "code",
   "execution_count": 622,
   "id": "ca16f091",
   "metadata": {},
   "outputs": [
    {
     "name": "stderr",
     "output_type": "stream",
     "text": [
      "c:\\users\\user\\appdata\\local\\programs\\python\\python37\\lib\\site-packages\\ipykernel_launcher.py:3: DataConversionWarning: A column-vector y was passed when a 1d array was expected. Please change the shape of y to (n_samples,), for example using ravel().\n",
      "  This is separate from the ipykernel package so we can avoid doing imports until\n"
     ]
    },
    {
     "name": "stdout",
     "output_type": "stream",
     "text": [
      "random_forest Accuracy: 0.8935312831389184\n"
     ]
    }
   ],
   "source": [
    "random_forest = RandomForestClassifier()\n",
    "# fit models to training data\n",
    "random_forest.fit(X_train, y_train)\n",
    "# make predictions on testing data\n",
    "random_forestpred = random_forest.predict(X_test)\n",
    "# evaluate models using accuracy score\n",
    "random_forest_acc = accuracy_score(y_test, random_forestpred)\n",
    "# print accuracy scores for each model\n",
    "print(\"random_forest Accuracy:\", random_forest_acc)"
   ]
  },
  {
   "cell_type": "markdown",
   "id": "f248a91d",
   "metadata": {},
   "source": [
    "## Decision Tree "
   ]
  },
  {
   "cell_type": "code",
   "execution_count": 623,
   "id": "0ec7c6fa",
   "metadata": {},
   "outputs": [
    {
     "name": "stdout",
     "output_type": "stream",
     "text": [
      "decision_tree Accuracy: 0.8106044538706256\n"
     ]
    }
   ],
   "source": [
    "decision_tree = DecisionTreeClassifier()\n",
    "# fit models to training data\n",
    "decision_tree.fit(X_train, y_train)\n",
    "# make predictions on testing data\n",
    "decision_treepred = decision_tree.predict(X_test)\n",
    "# evaluate models using accuracy score\n",
    "decision_tree_acc = accuracy_score(y_test, decision_treepred)\n",
    "# print accuracy scores for each model\n",
    "print(\"decision_tree Accuracy:\", decision_tree_acc) "
   ]
  },
  {
   "cell_type": "markdown",
   "id": "7a5c8bb2",
   "metadata": {},
   "source": [
    "## xgboost "
   ]
  },
  {
   "cell_type": "code",
   "execution_count": 624,
   "id": "c67c20fd",
   "metadata": {},
   "outputs": [
    {
     "name": "stdout",
     "output_type": "stream",
     "text": [
      "decision_tree Accuracy: 0.888441145281018\n"
     ]
    }
   ],
   "source": [
    "gbm = xgb.XGBClassifier()\n",
    "# fit models to training data\n",
    "gbm.fit(X_train, y_train)\n",
    "# make predictions on testing data\n",
    "gbmpred = gbm .predict(X_test)\n",
    "# evaluate models using accuracy score\n",
    "gbm_acc = accuracy_score(y_test, gbmpred )\n",
    "# print accuracy scores for each model\n",
    "print(\"decision_tree Accuracy:\", gbm_acc)"
   ]
  },
  {
   "cell_type": "markdown",
   "id": "67f06a94",
   "metadata": {},
   "source": [
    "## Naive bays "
   ]
  },
  {
   "cell_type": "code",
   "execution_count": 625,
   "id": "e00d3d3b",
   "metadata": {},
   "outputs": [
    {
     "name": "stdout",
     "output_type": "stream",
     "text": [
      "naive Accuracy: 0.6774125132555673\n"
     ]
    },
    {
     "name": "stderr",
     "output_type": "stream",
     "text": [
      "c:\\users\\user\\appdata\\local\\programs\\python\\python37\\lib\\site-packages\\sklearn\\utils\\validation.py:63: DataConversionWarning: A column-vector y was passed when a 1d array was expected. Please change the shape of y to (n_samples, ), for example using ravel().\n",
      "  return f(*args, **kwargs)\n"
     ]
    }
   ],
   "source": [
    "naive = GaussianNB()\n",
    "# fit models to training data\n",
    "naive.fit(X_train, y_train)\n",
    "# make predictions on testing data\n",
    "naivepred=naive.predict(X_test)\n",
    "# evaluate models using accuracy score\n",
    "naive_acc = accuracy_score(y_test, naivepred )\n",
    "# print accuracy scores for each model\n",
    "print(\"naive Accuracy:\", naive_acc)"
   ]
  },
  {
   "cell_type": "markdown",
   "id": "7d8dd86f",
   "metadata": {},
   "source": [
    "##  KNeighbors "
   ]
  },
  {
   "cell_type": "code",
   "execution_count": 626,
   "id": "6e5090d1",
   "metadata": {},
   "outputs": [
    {
     "name": "stderr",
     "output_type": "stream",
     "text": [
      "c:\\users\\user\\appdata\\local\\programs\\python\\python37\\lib\\site-packages\\sklearn\\neighbors\\_classification.py:179: DataConversionWarning: A column-vector y was passed when a 1d array was expected. Please change the shape of y to (n_samples,), for example using ravel().\n",
      "  return self._fit(X, y)\n"
     ]
    },
    {
     "name": "stdout",
     "output_type": "stream",
     "text": [
      "naive Accuracy: 0.8850477200424178\n"
     ]
    }
   ],
   "source": [
    "KN = KNeighborsClassifier(n_neighbors=5)\n",
    "# fit models to training data\n",
    "KN.fit(X_train, y_train)\n",
    "# make predictions on testing data\n",
    "KNpred=KN.predict(X_test)\n",
    "# evaluate models using accuracy score\n",
    "KN_acc = accuracy_score(y_test, KNpred )\n",
    "# print accuracy scores for each model\n",
    "print(\"naive Accuracy:\", KN_acc)"
   ]
  },
  {
   "cell_type": "markdown",
   "id": "9c9412e6",
   "metadata": {},
   "source": [
    "## kmeans "
   ]
  },
  {
   "cell_type": "code",
   "execution_count": 627,
   "id": "d8a83dcc",
   "metadata": {},
   "outputs": [
    {
     "name": "stdout",
     "output_type": "stream",
     "text": [
      "naive Accuracy: 0.8850477200424178\n"
     ]
    }
   ],
   "source": [
    "kmeans = KMeans(n_clusters=2, random_state=42)\n",
    "# fit models to training data\n",
    "kmeans.fit(X_train, y_train)\n",
    "# make predictions on testing data\n",
    "kmeanspred=KN.predict(X_test)\n",
    "# evaluate models using accuracy score\n",
    "kmeans_acc = accuracy_score(y_test,kmeanspred )\n",
    "# print accuracy scores for each model\n",
    "print(\"naive Accuracy:\", kmeans_acc)"
   ]
  },
  {
   "cell_type": "markdown",
   "id": "1ca118c8",
   "metadata": {},
   "source": [
    "**CROSS VALIDATION**"
   ]
  },
  {
   "cell_type": "code",
   "execution_count": 628,
   "id": "a5c91e3d",
   "metadata": {},
   "outputs": [
    {
     "name": "stderr",
     "output_type": "stream",
     "text": [
      "c:\\users\\user\\appdata\\local\\programs\\python\\python37\\lib\\site-packages\\sklearn\\model_selection\\_split.py:668: UserWarning: The least populated class in y has only 1 members, which is less than n_splits=5.\n",
      "  % (min_groups, self.n_splits)), UserWarning)\n",
      "c:\\users\\user\\appdata\\local\\programs\\python\\python37\\lib\\site-packages\\sklearn\\model_selection\\_validation.py:593: DataConversionWarning: A column-vector y was passed when a 1d array was expected. Please change the shape of y to (n_samples,), for example using ravel().\n",
      "  estimator.fit(X_train, y_train, **fit_params)\n",
      "c:\\users\\user\\appdata\\local\\programs\\python\\python37\\lib\\site-packages\\sklearn\\model_selection\\_validation.py:593: DataConversionWarning: A column-vector y was passed when a 1d array was expected. Please change the shape of y to (n_samples,), for example using ravel().\n",
      "  estimator.fit(X_train, y_train, **fit_params)\n",
      "c:\\users\\user\\appdata\\local\\programs\\python\\python37\\lib\\site-packages\\sklearn\\model_selection\\_validation.py:593: DataConversionWarning: A column-vector y was passed when a 1d array was expected. Please change the shape of y to (n_samples,), for example using ravel().\n",
      "  estimator.fit(X_train, y_train, **fit_params)\n",
      "c:\\users\\user\\appdata\\local\\programs\\python\\python37\\lib\\site-packages\\sklearn\\model_selection\\_validation.py:593: DataConversionWarning: A column-vector y was passed when a 1d array was expected. Please change the shape of y to (n_samples,), for example using ravel().\n",
      "  estimator.fit(X_train, y_train, **fit_params)\n",
      "c:\\users\\user\\appdata\\local\\programs\\python\\python37\\lib\\site-packages\\sklearn\\model_selection\\_validation.py:593: DataConversionWarning: A column-vector y was passed when a 1d array was expected. Please change the shape of y to (n_samples,), for example using ravel().\n",
      "  estimator.fit(X_train, y_train, **fit_params)\n"
     ]
    },
    {
     "name": "stdout",
     "output_type": "stream",
     "text": [
      "Cross-validation scores: [0.87050589 0.89118676 0.8918231  0.83487114 0.8914704 ]\n",
      "Mean cross-validation score: 0.8759714585046782\n"
     ]
    }
   ],
   "source": [
    "from sklearn.model_selection import cross_val_score\n",
    "# Perform 5-fold cross-validation and calculate the mean accuracy score\n",
    "cv_scores = cross_val_score(random_forest, X, y, cv=5)\n",
    "print(\"Cross-validation scores:\", cv_scores)\n",
    "print(\"Mean cross-validation score:\", cv_scores.mean())"
   ]
  },
  {
   "cell_type": "markdown",
   "id": "e1185426",
   "metadata": {},
   "source": [
    "## Le Score du models par ordre des performances "
   ]
  },
  {
   "cell_type": "code",
   "execution_count": 644,
   "id": "f38563b6",
   "metadata": {},
   "outputs": [
    {
     "name": "stderr",
     "output_type": "stream",
     "text": [
      "c:\\users\\user\\appdata\\local\\programs\\python\\python37\\lib\\site-packages\\ipykernel_launcher.py:4: SettingWithCopyWarning: \n",
      "A value is trying to be set on a copy of a slice from a DataFrame\n",
      "\n",
      "See the caveats in the documentation: https://pandas.pydata.org/pandas-docs/stable/user_guide/indexing.html#returning-a-view-versus-a-copy\n",
      "  after removing the cwd from sys.path.\n"
     ]
    },
    {
     "data": {
      "text/html": [
       "<div>\n",
       "<style scoped>\n",
       "    .dataframe tbody tr th:only-of-type {\n",
       "        vertical-align: middle;\n",
       "    }\n",
       "\n",
       "    .dataframe tbody tr th {\n",
       "        vertical-align: top;\n",
       "    }\n",
       "\n",
       "    .dataframe thead th {\n",
       "        text-align: right;\n",
       "    }\n",
       "</style>\n",
       "<table border=\"1\" class=\"dataframe\">\n",
       "  <thead>\n",
       "    <tr style=\"text-align: right;\">\n",
       "      <th></th>\n",
       "      <th>Modele</th>\n",
       "      <th>Scores</th>\n",
       "    </tr>\n",
       "  </thead>\n",
       "  <tbody>\n",
       "    <tr>\n",
       "      <th>3</th>\n",
       "      <td>RandomeForest</td>\n",
       "      <td>89.353128</td>\n",
       "    </tr>\n",
       "    <tr>\n",
       "      <th>0</th>\n",
       "      <td>Regression logistique</td>\n",
       "      <td>89.331919</td>\n",
       "    </tr>\n",
       "    <tr>\n",
       "      <th>5</th>\n",
       "      <td>xgboos</td>\n",
       "      <td>88.844115</td>\n",
       "    </tr>\n",
       "    <tr>\n",
       "      <th>1</th>\n",
       "      <td>kmeans</td>\n",
       "      <td>88.504772</td>\n",
       "    </tr>\n",
       "    <tr>\n",
       "      <th>2</th>\n",
       "      <td>KNeighbors</td>\n",
       "      <td>88.504772</td>\n",
       "    </tr>\n",
       "    <tr>\n",
       "      <th>4</th>\n",
       "      <td>Naive bays</td>\n",
       "      <td>67.741251</td>\n",
       "    </tr>\n",
       "  </tbody>\n",
       "</table>\n",
       "</div>"
      ],
      "text/plain": [
       "                  Modele     Scores\n",
       "3          RandomeForest  89.353128\n",
       "0  Regression logistique  89.331919\n",
       "5                 xgboos  88.844115\n",
       "1                 kmeans  88.504772\n",
       "2             KNeighbors  88.504772\n",
       "4             Naive bays  67.741251"
      ]
     },
     "execution_count": 644,
     "metadata": {},
     "output_type": "execute_result"
    }
   ],
   "source": [
    "df_Scores = pd.DataFrame()\n",
    "df_Scores[\"Modele\"] = [\"Regression logistique\",'kmeans','KNeighbors',\"RandomeForest\",'Naive bays','xgboos']\n",
    "df_Scores[\"Scores\"] = [log_reg_acc,kmeans_acc, KN_acc,random_forest_acc,naive_acc, gbm_acc]\n",
    "df_Scores[\"Scores\"][0:6]=100*df_Scores[\"Scores\"]\n",
    "df_Scores = df_Scores.sort_values(\"Scores\", ascending=False) \n",
    "df_Scores"
   ]
  },
  {
   "cell_type": "markdown",
   "id": "bd0668ea",
   "metadata": {},
   "source": [
    "## Random Forest is the best One :>)"
   ]
  },
  {
   "cell_type": "markdown",
   "id": "827b0f5f",
   "metadata": {},
   "source": [
    "**Let's see the Feature importances**"
   ]
  },
  {
   "cell_type": "code",
   "execution_count": 643,
   "id": "b59303a3",
   "metadata": {},
   "outputs": [
    {
     "data": {
      "text/html": [
       "<div>\n",
       "<style scoped>\n",
       "    .dataframe tbody tr th:only-of-type {\n",
       "        vertical-align: middle;\n",
       "    }\n",
       "\n",
       "    .dataframe tbody tr th {\n",
       "        vertical-align: top;\n",
       "    }\n",
       "\n",
       "    .dataframe thead th {\n",
       "        text-align: right;\n",
       "    }\n",
       "</style>\n",
       "<table border=\"1\" class=\"dataframe\">\n",
       "  <thead>\n",
       "    <tr style=\"text-align: right;\">\n",
       "      <th></th>\n",
       "      <th>feature_names</th>\n",
       "      <th>feature_importances</th>\n",
       "    </tr>\n",
       "  </thead>\n",
       "  <tbody>\n",
       "    <tr>\n",
       "      <th>7</th>\n",
       "      <td>dist_etabSante</td>\n",
       "      <td>0.515609</td>\n",
       "    </tr>\n",
       "    <tr>\n",
       "      <th>5</th>\n",
       "      <td>type_residence</td>\n",
       "      <td>0.414248</td>\n",
       "    </tr>\n",
       "    <tr>\n",
       "      <th>8</th>\n",
       "      <td>assuran_maladie</td>\n",
       "      <td>0.345874</td>\n",
       "    </tr>\n",
       "    <tr>\n",
       "      <th>6</th>\n",
       "      <td>arg_necess</td>\n",
       "      <td>0.317041</td>\n",
       "    </tr>\n",
       "    <tr>\n",
       "      <th>4</th>\n",
       "      <td>region</td>\n",
       "      <td>0.313251</td>\n",
       "    </tr>\n",
       "    <tr>\n",
       "      <th>15</th>\n",
       "      <td>occup</td>\n",
       "      <td>0.198075</td>\n",
       "    </tr>\n",
       "    <tr>\n",
       "      <th>14</th>\n",
       "      <td>part_occup</td>\n",
       "      <td>0.145820</td>\n",
       "    </tr>\n",
       "    <tr>\n",
       "      <th>22</th>\n",
       "      <td>indice_richesse</td>\n",
       "      <td>0.145780</td>\n",
       "    </tr>\n",
       "    <tr>\n",
       "      <th>20</th>\n",
       "      <td>alpphab</td>\n",
       "      <td>0.035430</td>\n",
       "    </tr>\n",
       "    <tr>\n",
       "      <th>13</th>\n",
       "      <td>educ_part</td>\n",
       "      <td>0.021550</td>\n",
       "    </tr>\n",
       "    <tr>\n",
       "      <th>11</th>\n",
       "      <td>education</td>\n",
       "      <td>0.021450</td>\n",
       "    </tr>\n",
       "    <tr>\n",
       "      <th>19</th>\n",
       "      <td>cancer</td>\n",
       "      <td>0.009856</td>\n",
       "    </tr>\n",
       "    <tr>\n",
       "      <th>18</th>\n",
       "      <td>diabetes</td>\n",
       "      <td>0.008795</td>\n",
       "    </tr>\n",
       "    <tr>\n",
       "      <th>3</th>\n",
       "      <td>height</td>\n",
       "      <td>0.006933</td>\n",
       "    </tr>\n",
       "    <tr>\n",
       "      <th>1</th>\n",
       "      <td>gender</td>\n",
       "      <td>0.002101</td>\n",
       "    </tr>\n",
       "    <tr>\n",
       "      <th>0</th>\n",
       "      <td>Age</td>\n",
       "      <td>0.001671</td>\n",
       "    </tr>\n",
       "    <tr>\n",
       "      <th>21</th>\n",
       "      <td>Number of living children</td>\n",
       "      <td>0.000815</td>\n",
       "    </tr>\n",
       "    <tr>\n",
       "      <th>12</th>\n",
       "      <td>stat_marital</td>\n",
       "      <td>0.000214</td>\n",
       "    </tr>\n",
       "    <tr>\n",
       "      <th>2</th>\n",
       "      <td>weight</td>\n",
       "      <td>0.000178</td>\n",
       "    </tr>\n",
       "    <tr>\n",
       "      <th>16</th>\n",
       "      <td>ethnicité</td>\n",
       "      <td>0.000125</td>\n",
       "    </tr>\n",
       "    <tr>\n",
       "      <th>9</th>\n",
       "      <td>langue</td>\n",
       "      <td>0.000045</td>\n",
       "    </tr>\n",
       "    <tr>\n",
       "      <th>10</th>\n",
       "      <td>part_age</td>\n",
       "      <td>0.000025</td>\n",
       "    </tr>\n",
       "    <tr>\n",
       "      <th>17</th>\n",
       "      <td>avoortement</td>\n",
       "      <td>0.000021</td>\n",
       "    </tr>\n",
       "  </tbody>\n",
       "</table>\n",
       "</div>"
      ],
      "text/plain": [
       "                feature_names  feature_importances\n",
       "7              dist_etabSante             0.515609\n",
       "5              type_residence             0.414248\n",
       "8             assuran_maladie             0.345874\n",
       "6                  arg_necess             0.317041\n",
       "4                      region             0.313251\n",
       "15                      occup             0.198075\n",
       "14                 part_occup             0.145820\n",
       "22            indice_richesse             0.145780\n",
       "20                    alpphab             0.035430\n",
       "13                  educ_part             0.021550\n",
       "11                  education             0.021450\n",
       "19                     cancer             0.009856\n",
       "18                   diabetes             0.008795\n",
       "3                      height             0.006933\n",
       "1                      gender             0.002101\n",
       "0                         Age             0.001671\n",
       "21  Number of living children             0.000815\n",
       "12               stat_marital             0.000214\n",
       "2                      weight             0.000178\n",
       "16                  ethnicité             0.000125\n",
       "9                      langue             0.000045\n",
       "10                   part_age             0.000025\n",
       "17                avoortement             0.000021"
      ]
     },
     "execution_count": 643,
     "metadata": {},
     "output_type": "execute_result"
    }
   ],
   "source": [
    "feat_imps = pd.DataFrame({'feature_importances': random_forest.feature_importances_}, index=X_train.columns)\n",
    "feat_imps_names=['Age', 'gender', 'weight', 'height', 'region', 'type_residence',\n",
    "       'arg_necess', 'dist_etabSante', 'assuran_maladie', 'langue', 'part_age',\n",
    "       'education', 'stat_marital', 'educ_part', 'part_occup', 'occup',\n",
    "       'ethnicité', 'avoortement', 'diabetes', 'cancer', 'alpphab',\n",
    "       'Number of living children', 'indice_richesse']\n",
    "feat_imps.sort_values(by='feature_importances', ascending=False, inplace=True)\n",
    "feat_imps"
   ]
  },
  {
   "cell_type": "markdown",
   "id": "63a83c37",
   "metadata": {},
   "source": [
    "**D'après nos modèles d'apprentissage statistique,la distance entre le domicile des individus et le point de santé, le type de résidence, l'assurance maladie, l'argent nécessaire pour qu'un individu puisse se rendre à un point de santé en cas de besoin, la région, l'indice de richesse et l'occupation sont les variables les plus importantes qui peuvent expliquer l'inégalité en matière de santé publique pour la population mauritanienne. Nos modèles montrent également que le niveau d'éducation d'un individu a une influence sur l'inégalité en matière de santé publique.**"
   ]
  },
  {
   "cell_type": "markdown",
   "id": "6ac6d7ce",
   "metadata": {},
   "source": [
    "## 4. Conclusions"
   ]
  },
  {
   "cell_type": "markdown",
   "id": "c318da03",
   "metadata": {},
   "source": [
    "**Il y a plusieurs facteurs qui expliquent l'inégalité en matière de santé publique pour la population mauritanienne. Tout d'abord, l'accès aux soins de santé est limité dans certaines zones géographiques du pays, en particulier dans les zones rurales et éloignées. Ces zones ont souvent une infrastructure de santé insuffisante. De plus, les niveaux d'éducation et de revenu ont un impact sur la santé, avec une plus grande prévalence de maladies chez les personnes ayant un faible niveau d'éducation et un faible revenu. Les facteurs socio-économiques tels que la pauvreté.**"
   ]
  },
  {
   "cell_type": "markdown",
   "id": "caf01249",
   "metadata": {},
   "source": [
    "![theend.png](finish.jpg)"
   ]
  },
  {
   "cell_type": "code",
   "execution_count": null,
   "id": "b7b9fb6c",
   "metadata": {},
   "outputs": [],
   "source": []
  }
 ],
 "metadata": {
  "kernelspec": {
   "display_name": "Python 3",
   "language": "python",
   "name": "python3"
  },
  "language_info": {
   "codemirror_mode": {
    "name": "ipython",
    "version": 3
   },
   "file_extension": ".py",
   "mimetype": "text/x-python",
   "name": "python",
   "nbconvert_exporter": "python",
   "pygments_lexer": "ipython3",
   "version": "3.7.4"
  }
 },
 "nbformat": 4,
 "nbformat_minor": 5
}
